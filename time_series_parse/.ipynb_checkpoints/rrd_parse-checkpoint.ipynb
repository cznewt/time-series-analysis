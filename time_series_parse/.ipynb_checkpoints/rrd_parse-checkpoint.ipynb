{
 "cells": [
  {
   "cell_type": "markdown",
   "metadata": {},
   "source": [
    "# Parse RRD"
   ]
  },
  {
   "cell_type": "code",
   "execution_count": null,
   "metadata": {},
   "outputs": [],
   "source": [
    "from bs4 import BeautifulSoup\n",
    "from datetime import datetime\n",
    "import sys\n",
    "inputfile = \"/srv/jupyter/notebook/time_series_analysis/data/port-300.xml\"\n",
    "inputfile = open(inputfile)\n",
    "soup = BeautifulSoup(inputfile, \"lxml\")\n",
    "print inputfile\n",
    "datasets = []\n",
    "for ds in soup.findAll('ds'):\n",
    "    ds_name = ds.findAll('name')\n",
    "    if len(ds_name) > 0:\n",
    "        datasets.append(ds_name[0].contents[0].replace(' ', ''))\n",
    "print datasets\n",
    "for rra in soup.findAll('rra'):\n",
    "    fun = rra.findAll('cf')[0].contents[0]\n",
    "    retention = int(rra.findAll('pdp_per_row')[0].contents[0]) * 300\n",
    "    print retention\n",
    "    rows = rra.database.findAll('row')\n",
    "    for row in rows:\n",
    "        values = row.findAll('v')\n",
    "        i = 0\n",
    "        for value in values:\n",
    "            final_value = float(value.contents[0])\n",
    "            epoch_time = int(row.previous_sibling.previous_sibling.split('/')[1])\n",
    "            event_time = datetime.fromtimestamp(epoch_time)\n",
    "            i = i + 1\n",
    "            if i < len(datasets):\n",
    "                if datasets[i] == 'OUTOCTETS' and fun == 'AVERAGE' and retention == 86400:\n",
    "                    print(\"%s %s Time= %s Value=%f\" %\n",
    "                        (datasets[i], fun, event_time.strftime(\"%Y-%m-%d %H:%M:%S\"), final_value))\n"
   ]
  },
  {
   "cell_type": "code",
   "execution_count": null,
   "metadata": {
    "collapsed": true
   },
   "outputs": [],
   "source": []
  }
 ],
 "metadata": {
  "kernelspec": {
   "display_name": "Python 2",
   "language": "python",
   "name": "python2"
  },
  "language_info": {
   "codemirror_mode": {
    "name": "ipython",
    "version": 2
   },
   "file_extension": ".py",
   "mimetype": "text/x-python",
   "name": "python",
   "nbconvert_exporter": "python",
   "pygments_lexer": "ipython2",
   "version": "2.7.12"
  }
 },
 "nbformat": 4,
 "nbformat_minor": 2
}
