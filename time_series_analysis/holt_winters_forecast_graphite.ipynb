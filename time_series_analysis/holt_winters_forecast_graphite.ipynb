{
 "cells": [
  {
   "cell_type": "markdown",
   "metadata": {},
   "source": [
    "# Time-series Data Forecasting Methods\n",
    "\n",
    "Demonstrate forecasting methods on real data:\n",
    "\n",
    "* Exponencial smoothing\n",
    "* Holt method\n",
    "* Holt Winters method"
   ]
  },
  {
   "cell_type": "code",
   "execution_count": 1,
   "metadata": {},
   "outputs": [],
   "source": [
    "\"\"\"\n",
    "Core library imports\n",
    "\"\"\"\n",
    "import json"
   ]
  },
  {
   "cell_type": "code",
   "execution_count": 2,
   "metadata": {
    "collapsed": true
   },
   "outputs": [],
   "source": [
    "\"\"\"\n",
    "pandas: pandas is a library providing high-performance,\n",
    "easy-to-use data structures and data analysis tools for\n",
    "the Python programming language.\n",
    "http://pandas.pydata.org/\n",
    "\"\"\"\n",
    "import pandas as pd"
   ]
  },
  {
   "cell_type": "code",
   "execution_count": 3,
   "metadata": {
    "collapsed": true
   },
   "outputs": [],
   "source": [
    "\"\"\"\n",
    "libgraphite: Python library for querying metrics from\n",
    "Graphite into Pandas DataFrames.\n",
    "https://github.com/direvius/libgraphite\n",
    "\"\"\"\n",
    "import libgraphite as lg"
   ]
  },
  {
   "cell_type": "code",
   "execution_count": 4,
   "metadata": {
    "collapsed": true
   },
   "outputs": [],
   "source": [
    "\"\"\"\n",
    "Bokeh: Bokeh is a Python interactive visualization library\n",
    "that targets modern web browsers for presentation.\n",
    "http://bokeh.pydata.org/\n",
    "\"\"\"\n",
    "from bokeh.plotting import figure, show\n",
    "from bokeh.models import BoxAnnotation, ColumnDataSource\n",
    "from bokeh.io import output_notebook, vform"
   ]
  },
  {
   "cell_type": "code",
   "execution_count": 5,
   "metadata": {
    "collapsed": true
   },
   "outputs": [],
   "source": [
    "\"\"\"\n",
    "pycast: pycast aims to provide a python module supporting basic\n",
    "and advanced smoothing and forecasting methods that can be used\n",
    "on time series data.\n",
    "http://pythonhosted.org/pycast/\n",
    "\"\"\"\n",
    "from pycast.common.timeseries import TimeSeries\n",
    "from pycast.common.json_encoder import PycastEncoder\n",
    "from pycast.methods.exponentialsmoothing import ExponentialSmoothing, \\\n",
    "     HoltMethod, HoltWintersMethod\n",
    "from pycast.errors import SymmetricMeanAbsolutePercentageError as SMAPE"
   ]
  },
  {
   "cell_type": "code",
   "execution_count": 6,
   "metadata": {
    "collapsed": true
   },
   "outputs": [],
   "source": [
    "#Analysis Parameters\n",
    "valuesToForecast = 6\n",
    "smoothingFactor = float(0.2)\n",
    "trendSmoothingFactor = float(0.3)\n",
    "seasonSmoothingFactor = float(0.4)\n",
    "seasonLength = 24\n",
    "#Visualization Parameters\n",
    "figureTools = \"\" # \"pan,wheel_zoom,box_zoom,reset,save\""
   ]
  },
  {
   "cell_type": "code",
   "execution_count": 7,
   "metadata": {
    "scrolled": true
   },
   "outputs": [
    {
     "ename": "AttributeError",
     "evalue": "'NoneType' object has no attribute 'to_dict'",
     "output_type": "error",
     "traceback": [
      "\u001b[1;31m---------------------------------------------------------------------------\u001b[0m",
      "\u001b[1;31mAttributeError\u001b[0m                            Traceback (most recent call last)",
      "\u001b[1;32m<ipython-input-7-f2f55cb23634>\u001b[0m in \u001b[0;36m<module>\u001b[1;34m()\u001b[0m\n\u001b[0;32m      3\u001b[0m \u001b[0mtarget\u001b[0m \u001b[1;33m=\u001b[0m \u001b[1;34m'alias(transformNull(iot.doppler.pi03.dvb.passage), \"pi03-dvb\")'\u001b[0m\u001b[1;33m\u001b[0m\u001b[0m\n\u001b[0;32m      4\u001b[0m \u001b[0mdt_data\u001b[0m \u001b[1;33m=\u001b[0m \u001b[0mlg\u001b[0m\u001b[1;33m.\u001b[0m\u001b[0mQuery\u001b[0m\u001b[1;33m(\u001b[0m\u001b[0mserver\u001b[0m\u001b[1;33m)\u001b[0m             \u001b[1;33m.\u001b[0m\u001b[0mtarget\u001b[0m\u001b[1;33m(\u001b[0m\u001b[0mtarget\u001b[0m\u001b[1;33m)\u001b[0m             \u001b[1;33m.\u001b[0m\u001b[0mpfrom\u001b[0m\u001b[1;33m(\u001b[0m\u001b[1;34m'20151204'\u001b[0m\u001b[1;33m)\u001b[0m             \u001b[1;33m.\u001b[0m\u001b[0mpuntil\u001b[0m\u001b[1;33m(\u001b[0m\u001b[1;34m'20151213'\u001b[0m\u001b[1;33m)\u001b[0m             \u001b[1;33m.\u001b[0m\u001b[0mexecute\u001b[0m\u001b[1;33m(\u001b[0m\u001b[1;33m)\u001b[0m\u001b[1;33m\u001b[0m\u001b[0m\n\u001b[1;32m----> 5\u001b[1;33m \u001b[0mdt_data_dict\u001b[0m \u001b[1;33m=\u001b[0m \u001b[0mdt_data\u001b[0m\u001b[1;33m.\u001b[0m\u001b[0mto_dict\u001b[0m\u001b[1;33m(\u001b[0m\u001b[1;33m)\u001b[0m\u001b[1;33m\u001b[0m\u001b[0m\n\u001b[0m\u001b[0;32m      6\u001b[0m \u001b[0mdt_data_list\u001b[0m \u001b[1;33m=\u001b[0m \u001b[1;33m[\u001b[0m\u001b[1;33m]\u001b[0m\u001b[1;33m\u001b[0m\u001b[0m\n\u001b[0;32m      7\u001b[0m \u001b[1;32mfor\u001b[0m \u001b[0mdt_stamp\u001b[0m\u001b[1;33m,\u001b[0m \u001b[0mdt_value\u001b[0m \u001b[1;32min\u001b[0m \u001b[0mdt_data_dict\u001b[0m\u001b[1;33m[\u001b[0m\u001b[1;34m'pi03-dvb'\u001b[0m\u001b[1;33m]\u001b[0m\u001b[1;33m.\u001b[0m\u001b[0miteritems\u001b[0m\u001b[1;33m(\u001b[0m\u001b[1;33m)\u001b[0m\u001b[1;33m:\u001b[0m\u001b[1;33m\u001b[0m\u001b[0m\n",
      "\u001b[1;31mAttributeError\u001b[0m: 'NoneType' object has no attribute 'to_dict'"
     ]
    }
   ],
   "source": [
    "#Data for Analysis\n",
    "server = 'http://graphite-server.iot.tcpcloud.eu:80'\n",
    "target = 'alias(transformNull(iot.doppler.pi03.dvb.passage), \"pi03-dvb\")'\n",
    "dt_data = lg.Query(server) \\\n",
    "            .target(target) \\\n",
    "            .pfrom('20151204') \\\n",
    "            .puntil('20151213') \\\n",
    "            .execute()\n",
    "dt_data_dict = dt_data.to_dict()\n",
    "dt_data_list = []\n",
    "for dt_stamp, dt_value in dt_data_dict['pi03-dvb'].iteritems():\n",
    "    dt_data_list.append([dt_stamp, dt_value])\n",
    "original = TimeSeries.from_twodim_list(dt_data_list)\n",
    "original.normalize(\"hour\", fusionMethod = \"sum\")"
   ]
  },
  {
   "cell_type": "code",
   "execution_count": null,
   "metadata": {},
   "outputs": [],
   "source": [
    "#Data Visualization Initialization\n",
    "output_notebook()"
   ]
  },
  {
   "cell_type": "code",
   "execution_count": null,
   "metadata": {},
   "outputs": [],
   "source": [
    "pd_original = pd.read_json(json.dumps(original, cls=PycastEncoder))\n",
    "print pd_original"
   ]
  },
  {
   "cell_type": "code",
   "execution_count": null,
   "metadata": {},
   "outputs": [],
   "source": [
    "# Plot Raw Data\n",
    "p = figure(x_axis_type=\"datetime\", tools=figureTools)\n",
    "p.line(pd_original[0], pd_original[1],\n",
    "       line_color=\"black\", line_width=2, legend=\"Original Time-Series\")\n",
    "\n",
    "p.title = \"Original Time-series\"\n",
    "p.xgrid[0].grid_line_color=None\n",
    "p.ygrid[0].grid_line_alpha=0.5\n",
    "p.xaxis.axis_label = 'Date'\n",
    "p.yaxis.axis_label = 'Traffic'\n",
    "p.plot_width = 900\n",
    "p.plot_height = 350\n",
    "show(p)"
   ]
  },
  {
   "cell_type": "code",
   "execution_count": null,
   "metadata": {},
   "outputs": [],
   "source": [
    "#Perform Exponential Smoothing\n",
    "es = ExponentialSmoothing(smoothingFactor = smoothingFactor,\n",
    "                          valuesToForecast = valuesToForecast)\n",
    "smoothed = es.execute(original)\n",
    "es_smoothed = pd.read_json(json.dumps(smoothed, cls=PycastEncoder))\n",
    "print es_smoothed"
   ]
  },
  {
   "cell_type": "code",
   "execution_count": null,
   "metadata": {
    "scrolled": true
   },
   "outputs": [],
   "source": [
    "# Plot Exponential Smoothing\n",
    "p = figure(x_axis_type=\"datetime\", tools=figureTools)\n",
    "p.line(pd_original[0], pd_original[1],\n",
    "       line_color=\"black\", line_width=2, legend=\"Original Time-Series\")\n",
    "p.line(es_smoothed[0], es_smoothed[1],\n",
    "       line_color=\"blue\", line_width=1, legend=\"Exponencial Smoothing\")\n",
    "\n",
    "p.title = \"Exponential Smoothing\"\n",
    "p.xgrid[0].grid_line_color=None\n",
    "p.ygrid[0].grid_line_alpha=0.5\n",
    "p.xaxis.axis_label = 'Date'\n",
    "p.yaxis.axis_label = 'Traffic'\n",
    "p.plot_width = 900\n",
    "p.plot_height = 350\n",
    "p.legend.orientation = \"top_left\"\n",
    "show(p)"
   ]
  },
  {
   "cell_type": "code",
   "execution_count": null,
   "metadata": {},
   "outputs": [],
   "source": [
    "#Perform Holt Method\n",
    "hm = HoltMethod(smoothingFactor = smoothingFactor,\n",
    "                trendSmoothingFactor = trendSmoothingFactor,\n",
    "                valuesToForecast = valuesToForecast)\n",
    "smoothed = hm.execute(original)\n",
    "hm_smoothed = pd.read_json(json.dumps(smoothed, cls=PycastEncoder))\n",
    "print hm_smoothed"
   ]
  },
  {
   "cell_type": "code",
   "execution_count": null,
   "metadata": {},
   "outputs": [],
   "source": [
    "# Plot Holt Method\n",
    "p = figure(x_axis_type=\"datetime\", tools=figureTools)\n",
    "p.line(pd_original[0], pd_original[1],\n",
    "       line_color=\"black\", line_width=2, legend=\"Original Time-Series\")\n",
    "p.line(hm_smoothed[0], hm_smoothed[1],\n",
    "       line_color=\"red\", line_width=1, legend=\"Holt Method\")\n",
    "\n",
    "p.title = \"Holt Method\"\n",
    "p.xgrid[0].grid_line_color=None\n",
    "p.ygrid[0].grid_line_alpha=0.5\n",
    "p.xaxis.axis_label = 'Date'\n",
    "p.yaxis.axis_label = 'Traffic'\n",
    "p.plot_width = 900\n",
    "p.plot_height = 350\n",
    "p.legend.orientation = \"top_left\"\n",
    "show(p)"
   ]
  },
  {
   "cell_type": "code",
   "execution_count": null,
   "metadata": {},
   "outputs": [],
   "source": [
    "#Perform Holt-Winters Method\n",
    "hwm = HoltWintersMethod(smoothingFactor = smoothingFactor,\n",
    "                        trendSmoothingFactor = trendSmoothingFactor,\n",
    "                        seasonSmoothingFactor = seasonSmoothingFactor,\n",
    "                        seasonLength = seasonLength,\n",
    "                        valuesToForecast = valuesToForecast)\n",
    "smoothed = hwm.execute(original)\n",
    "hwm_smoothed = pd.read_json(json.dumps(smoothed, cls=PycastEncoder))\n",
    "print hwm_smoothed"
   ]
  },
  {
   "cell_type": "code",
   "execution_count": null,
   "metadata": {},
   "outputs": [],
   "source": [
    "# Plot all methods\n",
    "p = figure(x_axis_type=\"datetime\", tools=figureTools)\n",
    "p.line(pd_original[0], pd_original[1],\n",
    "       line_color=\"black\", line_width=2, legend=\"Original Time-Series\")\n",
    "p.line(hwm_smoothed[0], hwm_smoothed[1],\n",
    "       line_color=\"green\", line_width=1, legend=\"Holt-Winters Method\")\n",
    "\n",
    "p.title = \"Holt-Winters Method\"\n",
    "p.xgrid[0].grid_line_color=None\n",
    "p.ygrid[0].grid_line_alpha=0.5\n",
    "p.xaxis.axis_label = 'Date'\n",
    "p.yaxis.axis_label = 'Traffic'\n",
    "p.plot_width = 900\n",
    "p.plot_height = 350\n",
    "p.legend.orientation = \"top_left\"\n",
    "show(p)"
   ]
  },
  {
   "cell_type": "code",
   "execution_count": null,
   "metadata": {},
   "outputs": [],
   "source": [
    "# Print error\n",
    "error = SMAPE()\n",
    "error.initialize(original, smoothed)\n",
    "error = round(error.get_error(), 3)\n",
    "print error\n",
    "\n",
    "###data = json.dumps(original, cls=PycastEncoder)\n",
    "###original = TimeSeries.from_twodim_list(data)"
   ]
  },
  {
   "cell_type": "code",
   "execution_count": null,
   "metadata": {},
   "outputs": [],
   "source": [
    "# Plot all methods\n",
    "p = figure(x_axis_type=\"datetime\", tools=figureTools)\n",
    "p.line(pd_original[0], pd_original[1],\n",
    "       line_color=\"black\", line_width=2, legend=\"Original Time-Series\")\n",
    "p.line(es_smoothed[0], es_smoothed[1],\n",
    "       line_color=\"blue\", line_width=1, legend=\"Exponencial Smoothing\")\n",
    "p.line(hm_smoothed[0], hm_smoothed[1],\n",
    "       line_color=\"red\", line_width=1, legend=\"Holt Method\")\n",
    "p.line(hwm_smoothed[0], hwm_smoothed[1],\n",
    "       line_color=\"green\", line_width=1, legend=\"Holt-Winters Method\")\n",
    "\n",
    "p.title = \"Time-Series Predictive Analysis Comparison\"\n",
    "p.xgrid[0].grid_line_color=None\n",
    "p.ygrid[0].grid_line_alpha=0.5\n",
    "p.xaxis.axis_label = 'Date'\n",
    "p.yaxis.axis_label = 'Traffic'\n",
    "p.plot_width = 900\n",
    "p.plot_height = 350\n",
    "p.legend.orientation = \"top_left\"\n",
    "show(p)"
   ]
  }
 ],
 "metadata": {
  "celltoolbar": "Slideshow",
  "kernelspec": {
   "display_name": "Python 2",
   "language": "python",
   "name": "python2"
  },
  "language_info": {
   "codemirror_mode": {
    "name": "ipython",
    "version": 2
   },
   "file_extension": ".py",
   "mimetype": "text/x-python",
   "name": "python",
   "nbconvert_exporter": "python",
   "pygments_lexer": "ipython2",
   "version": "2.7.12"
  }
 },
 "nbformat": 4,
 "nbformat_minor": 1
}
