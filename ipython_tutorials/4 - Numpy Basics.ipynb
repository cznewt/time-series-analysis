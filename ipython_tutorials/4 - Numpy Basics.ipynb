{
 "metadata": {
  "name": "",
  "signature": "sha256:2438dcd496ca8a570d4205973dbefb0f2d655a9c30d4fdb5b4716ea205bcdb23"
 },
 "nbformat": 3,
 "nbformat_minor": 0,
 "worksheets": [
  {
   "cells": [
    {
     "cell_type": "heading",
     "level": 1,
     "metadata": {},
     "source": [
      "Tutorial Brief"
     ]
    },
    {
     "cell_type": "markdown",
     "metadata": {},
     "source": [
      "numpy is a powerful set of tools to perform mathematical operations of on lists of numbers. It works faster than normal python lists operations and can manupilate high dimentional arrays too.\n",
      "\n",
      "Finding Help:\n",
      "\n",
      " - http://wiki.scipy.org/Tentative_NumPy_Tutorial\n",
      " - http://docs.scipy.org/doc/numpy/reference/"
     ]
    },
    {
     "cell_type": "markdown",
     "metadata": {},
     "source": [
      "> SciPy (pronounced \u201cSigh Pie\u201d) is a Python-based ecosystem of open-source software for mathematics, science, and engineering.\n",
      ">\n",
      ">  *http://www.scipy.org/*\n",
      "\n",
      "So NumPy is a part of a bigger ecosystem of libraries that build on the optimized performance of NumPy NDArray.\n",
      "\n",
      "It contain these core packages:\n",
      "\n",
      "<table>\n",
      "<tr>\n",
      "    <td style=\"background:Lavender;\"><img src=\"http://www.scipy.org/_static/images/numpylogo_med.png\"  style=\"width:50px;height:50px;\" /></td>\n",
      "    <td style=\"background:Lavender;\"><h4>NumPy</h4> Base N-dimensional array package </td>\n",
      "    <td><img src=\"http://www.scipy.org/_static/images/scipy_med.png\" style=\"width:50px;height:50px;\" /></td>\n",
      "    <td><h4>SciPy</h4> Fundamental library for scientific computing </td>\n",
      "    <td><img src=\"http://www.scipy.org/_static/images/matplotlib_med.png\" style=\"width:50px;height:50px;\" /></td>\n",
      "    <td><h4>Matplotlib</h4> Comprehensive 2D Plotting </td>\n",
      "</tr>\n",
      "<tr>\n",
      "    <td><img src=\"http://www.scipy.org/_static/images/ipython.png\" style=\"width:50px;height:50px;\" /></td>\n",
      "    <td><h4>IPython</h4> Enhanced Interactive Console </td>\n",
      "    <td><img src=\"http://www.scipy.org/_static/images/sympy_logo.png\" style=\"width:50px;height:50px;\" /></td>\n",
      "    <td><h4>SymPy</h4> Symbolic mathematics </td>\n",
      "    <td><img src=\"http://www.scipy.org/_static/images/pandas_badge2.jpg\" style=\"width:50px;height:50px;\" /></td>\n",
      "    <td><h4>Pandas</h4> Data structures & analysis </td>\n",
      "</tr>\n",
      "</table>\n",
      "\n",
      "\n",
      "\n"
     ]
    },
    {
     "cell_type": "heading",
     "level": 1,
     "metadata": {},
     "source": [
      "Importig the library"
     ]
    },
    {
     "cell_type": "markdown",
     "metadata": {},
     "source": [
      "### Import numpy library as np\n",
      "This helps in writing code and it's almost a standard in scientific work"
     ]
    },
    {
     "cell_type": "code",
     "collapsed": false,
     "input": [
      "import numpy as np"
     ],
     "language": "python",
     "metadata": {},
     "outputs": [],
     "prompt_number": 1
    },
    {
     "cell_type": "heading",
     "level": 2,
     "metadata": {},
     "source": [
      "Working with ndarray"
     ]
    },
    {
     "cell_type": "markdown",
     "metadata": {},
     "source": [
      "We will generate an ndarray with np.arange method.\n",
      "\n",
      "####np.arange([start,] stop[, step,], dtype=None)"
     ]
    },
    {
     "cell_type": "code",
     "collapsed": false,
     "input": [
      "np.arange(10)"
     ],
     "language": "python",
     "metadata": {},
     "outputs": [
      {
       "metadata": {},
       "output_type": "pyout",
       "prompt_number": 2,
       "text": [
        "array([0, 1, 2, 3, 4, 5, 6, 7, 8, 9])"
       ]
      }
     ],
     "prompt_number": 2
    },
    {
     "cell_type": "code",
     "collapsed": false,
     "input": [
      "np.arange(1,10)"
     ],
     "language": "python",
     "metadata": {},
     "outputs": [
      {
       "metadata": {},
       "output_type": "pyout",
       "prompt_number": 3,
       "text": [
        "array([1, 2, 3, 4, 5, 6, 7, 8, 9])"
       ]
      }
     ],
     "prompt_number": 3
    },
    {
     "cell_type": "code",
     "collapsed": false,
     "input": [
      "np.arange(1,10, 0.5)"
     ],
     "language": "python",
     "metadata": {},
     "outputs": [
      {
       "metadata": {},
       "output_type": "pyout",
       "prompt_number": 4,
       "text": [
        "array([ 1. ,  1.5,  2. ,  2.5,  3. ,  3.5,  4. ,  4.5,  5. ,  5.5,  6. ,\n",
        "        6.5,  7. ,  7.5,  8. ,  8.5,  9. ,  9.5])"
       ]
      }
     ],
     "prompt_number": 4
    },
    {
     "cell_type": "code",
     "collapsed": false,
     "input": [
      "np.arange(1,10, 3)"
     ],
     "language": "python",
     "metadata": {},
     "outputs": [
      {
       "metadata": {},
       "output_type": "pyout",
       "prompt_number": 5,
       "text": [
        "array([1, 4, 7])"
       ]
      }
     ],
     "prompt_number": 5
    },
    {
     "cell_type": "code",
     "collapsed": false,
     "input": [
      "np.arange(1,10, 2, dtype=np.float64)"
     ],
     "language": "python",
     "metadata": {},
     "outputs": [
      {
       "metadata": {},
       "output_type": "pyout",
       "prompt_number": 6,
       "text": [
        "array([ 1.,  3.,  5.,  7.,  9.])"
       ]
      }
     ],
     "prompt_number": 6
    },
    {
     "cell_type": "heading",
     "level": 3,
     "metadata": {},
     "source": [
      "Examining ndrray"
     ]
    },
    {
     "cell_type": "code",
     "collapsed": false,
     "input": [
      "ds = np.arange(1,10,2)\n",
      "ds.ndim"
     ],
     "language": "python",
     "metadata": {},
     "outputs": [
      {
       "metadata": {},
       "output_type": "pyout",
       "prompt_number": 7,
       "text": [
        "1"
       ]
      }
     ],
     "prompt_number": 7
    },
    {
     "cell_type": "code",
     "collapsed": false,
     "input": [
      "ds.shape"
     ],
     "language": "python",
     "metadata": {},
     "outputs": [
      {
       "metadata": {},
       "output_type": "pyout",
       "prompt_number": 8,
       "text": [
        "(5,)"
       ]
      }
     ],
     "prompt_number": 8
    },
    {
     "cell_type": "code",
     "collapsed": false,
     "input": [
      "ds.size"
     ],
     "language": "python",
     "metadata": {},
     "outputs": [
      {
       "metadata": {},
       "output_type": "pyout",
       "prompt_number": 9,
       "text": [
        "5"
       ]
      }
     ],
     "prompt_number": 9
    },
    {
     "cell_type": "code",
     "collapsed": false,
     "input": [
      "ds.dtype"
     ],
     "language": "python",
     "metadata": {},
     "outputs": [
      {
       "metadata": {},
       "output_type": "pyout",
       "prompt_number": 10,
       "text": [
        "dtype('int64')"
       ]
      }
     ],
     "prompt_number": 10
    },
    {
     "cell_type": "code",
     "collapsed": false,
     "input": [
      "ds.itemsize"
     ],
     "language": "python",
     "metadata": {},
     "outputs": [
      {
       "metadata": {},
       "output_type": "pyout",
       "prompt_number": 11,
       "text": [
        "8"
       ]
      }
     ],
     "prompt_number": 11
    },
    {
     "cell_type": "code",
     "collapsed": false,
     "input": [
      "x=ds.data\n",
      "list(x)"
     ],
     "language": "python",
     "metadata": {},
     "outputs": [
      {
       "metadata": {},
       "output_type": "pyout",
       "prompt_number": 12,
       "text": [
        "['\\x01',\n",
        " '\\x00',\n",
        " '\\x00',\n",
        " '\\x00',\n",
        " '\\x00',\n",
        " '\\x00',\n",
        " '\\x00',\n",
        " '\\x00',\n",
        " '\\x03',\n",
        " '\\x00',\n",
        " '\\x00',\n",
        " '\\x00',\n",
        " '\\x00',\n",
        " '\\x00',\n",
        " '\\x00',\n",
        " '\\x00',\n",
        " '\\x05',\n",
        " '\\x00',\n",
        " '\\x00',\n",
        " '\\x00',\n",
        " '\\x00',\n",
        " '\\x00',\n",
        " '\\x00',\n",
        " '\\x00',\n",
        " '\\x07',\n",
        " '\\x00',\n",
        " '\\x00',\n",
        " '\\x00',\n",
        " '\\x00',\n",
        " '\\x00',\n",
        " '\\x00',\n",
        " '\\x00',\n",
        " '\\t',\n",
        " '\\x00',\n",
        " '\\x00',\n",
        " '\\x00',\n",
        " '\\x00',\n",
        " '\\x00',\n",
        " '\\x00',\n",
        " '\\x00']"
       ]
      }
     ],
     "prompt_number": 12
    },
    {
     "cell_type": "code",
     "collapsed": false,
     "input": [
      "ds"
     ],
     "language": "python",
     "metadata": {},
     "outputs": [
      {
       "metadata": {},
       "output_type": "pyout",
       "prompt_number": 13,
       "text": [
        "array([1, 3, 5, 7, 9])"
       ]
      }
     ],
     "prompt_number": 13
    },
    {
     "cell_type": "code",
     "collapsed": false,
     "input": [
      "# Memory Usage\n",
      "ds.size * ds.itemsize"
     ],
     "language": "python",
     "metadata": {},
     "outputs": [
      {
       "metadata": {},
       "output_type": "pyout",
       "prompt_number": 14,
       "text": [
        "40"
       ]
      }
     ],
     "prompt_number": 14
    },
    {
     "cell_type": "heading",
     "level": 1,
     "metadata": {},
     "source": [
      "Why to use numpy?"
     ]
    },
    {
     "cell_type": "markdown",
     "metadata": {},
     "source": [
      "We will compare the time it takes to create two lists and do some basic operations on them."
     ]
    },
    {
     "cell_type": "heading",
     "level": 3,
     "metadata": {},
     "source": [
      "Generate a list"
     ]
    },
    {
     "cell_type": "code",
     "collapsed": false,
     "input": [
      "%%capture timeit_results\n",
      "# Regular Python\n",
      "%timeit python_list_1 = range(1,1000)\n",
      "python_list_1 = range(1,1000)\n",
      "python_list_2 = range(1,1000)\n",
      "\n",
      "#Numpy\n",
      "%timeit numpy_list_1 = np.arange(1,1000)\n",
      "numpy_list_1 = np.arange(1,1000)\n",
      "numpy_list_2 = np.arange(1,1000)"
     ],
     "language": "python",
     "metadata": {},
     "outputs": [],
     "prompt_number": 15
    },
    {
     "cell_type": "code",
     "collapsed": false,
     "input": [
      "print timeit_results"
     ],
     "language": "python",
     "metadata": {},
     "outputs": [
      {
       "output_type": "stream",
       "stream": "stdout",
       "text": [
        "100000 loops, best of 3: 13.9 us per loop\n",
        "100000 loops, best of 3: 2.14 us per loop\n",
        "\n"
       ]
      }
     ],
     "prompt_number": 16
    },
    {
     "cell_type": "code",
     "collapsed": false,
     "input": [
      "# Function to calculate time in seconds\n",
      "def return_time(timeit_result):\n",
      "    temp_time = float(timeit_result.split(\" \")[5])\n",
      "    temp_unit = timeit_result.split(\" \")[6]\n",
      "    if temp_unit == \"ms\":\n",
      "        temp_time = temp_time * 1e-3\n",
      "    elif temp_unit == \"us\":\n",
      "        temp_time = temp_time * 1e-6\n",
      "    elif temp_unit == \"ns\":\n",
      "        temp_time = temp_time * 1e-9\n",
      "    return temp_time"
     ],
     "language": "python",
     "metadata": {},
     "outputs": [],
     "prompt_number": 17
    },
    {
     "cell_type": "code",
     "collapsed": false,
     "input": [
      "python_time = return_time(timeit_results.stdout.split(\"\\n\")[0])\n",
      "numpy_time = return_time(timeit_results.stdout.split(\"\\n\")[1])\n",
      "\n",
      "print \"Python/NumPy: %.1f\" % (python_time/numpy_time)"
     ],
     "language": "python",
     "metadata": {},
     "outputs": [
      {
       "output_type": "stream",
       "stream": "stdout",
       "text": [
        "Python/NumPy: 6.5\n"
       ]
      }
     ],
     "prompt_number": 18
    },
    {
     "cell_type": "heading",
     "level": 3,
     "metadata": {},
     "source": [
      "Basic Operation"
     ]
    },
    {
     "cell_type": "code",
     "collapsed": false,
     "input": [
      "%%capture timeit_python\n",
      "%%timeit\n",
      "# Regular Python\n",
      "[(x + y) for x, y in zip(python_list_1, python_list_2)]\n",
      "[(x - y) for x, y in zip(python_list_1, python_list_2)]\n",
      "[(x * y) for x, y in zip(python_list_1, python_list_2)]\n",
      "[(x / y) for x, y in zip(python_list_1, python_list_2)];"
     ],
     "language": "python",
     "metadata": {},
     "outputs": [],
     "prompt_number": 19
    },
    {
     "cell_type": "code",
     "collapsed": false,
     "input": [
      "print timeit_python"
     ],
     "language": "python",
     "metadata": {},
     "outputs": [
      {
       "output_type": "stream",
       "stream": "stdout",
       "text": [
        "1000 loops, best of 3: 626 us per loop\n",
        "\n"
       ]
      }
     ],
     "prompt_number": 20
    },
    {
     "cell_type": "code",
     "collapsed": false,
     "input": [
      "%%capture timeit_numpy\n",
      "%%timeit\n",
      "#Numpy\n",
      "numpy_list_1 + numpy_list_2\n",
      "numpy_list_1 - numpy_list_2\n",
      "numpy_list_1 * numpy_list_2\n",
      "numpy_list_1 / numpy_list_2;"
     ],
     "language": "python",
     "metadata": {},
     "outputs": [],
     "prompt_number": 21
    },
    {
     "cell_type": "code",
     "collapsed": false,
     "input": [
      "print timeit_numpy"
     ],
     "language": "python",
     "metadata": {},
     "outputs": [
      {
       "output_type": "stream",
       "stream": "stdout",
       "text": [
        "10000 loops, best of 3: 34.6 us per loop\n",
        "\n"
       ]
      }
     ],
     "prompt_number": 22
    },
    {
     "cell_type": "code",
     "collapsed": false,
     "input": [
      "python_time = return_time(timeit_python.stdout)\n",
      "numpy_time = return_time(timeit_numpy.stdout)\n",
      "\n",
      "print \"Python/NumPy: %.1f\" % (python_time/numpy_time)"
     ],
     "language": "python",
     "metadata": {},
     "outputs": [
      {
       "output_type": "stream",
       "stream": "stdout",
       "text": [
        "Python/NumPy: 18.1\n"
       ]
      }
     ],
     "prompt_number": 23
    },
    {
     "cell_type": "heading",
     "level": 1,
     "metadata": {},
     "source": [
      "Most Common Functions"
     ]
    },
    {
     "cell_type": "heading",
     "level": 2,
     "metadata": {},
     "source": [
      "List Creation"
     ]
    },
    {
     "cell_type": "heading",
     "level": 3,
     "metadata": {},
     "source": [
      "array(object, dtype=None, copy=True, order=None, subok=False, ndmin=0)"
     ]
    },
    {
     "cell_type": "markdown",
     "metadata": {},
     "source": [
      "```\n",
      "Parameters\n",
      "----------\n",
      "object : array_like\n",
      "    An array, any object exposing the array interface, an\n",
      "    object whose __array__ method returns an array, or any\n",
      "    (nested) sequence.\n",
      "dtype : data-type, optional\n",
      "    The desired data-type for the array.  If not given, then\n",
      "    the type will be determined as the minimum type required\n",
      "    to hold the objects in the sequence.  This argument can only\n",
      "    be used to 'upcast' the array.  For downcasting, use the\n",
      "    .astype(t) method.\n",
      "copy : bool, optional\n",
      "    If true (default), then the object is copied.  Otherwise, a copy\n",
      "    will only be made if __array__ returns a copy, if obj is a\n",
      "    nested sequence, or if a copy is needed to satisfy any of the other\n",
      "    requirements (`dtype`, `order`, etc.).\n",
      "order : {'C', 'F', 'A'}, optional\n",
      "    Specify the order of the array.  If order is 'C' (default), then the\n",
      "    array will be in C-contiguous order (last-index varies the\n",
      "    fastest).  If order is 'F', then the returned array\n",
      "    will be in Fortran-contiguous order (first-index varies the\n",
      "    fastest).  If order is 'A', then the returned array may\n",
      "    be in any order (either C-, Fortran-contiguous, or even\n",
      "    discontiguous).\n",
      "subok : bool, optional\n",
      "    If True, then sub-classes will be passed-through, otherwise\n",
      "    the returned array will be forced to be a base-class array (default).\n",
      "ndmin : int, optional\n",
      "    Specifies the minimum number of dimensions that the resulting\n",
      "    array should have.  Ones will be pre-pended to the shape as\n",
      "    needed to meet this requirement.\n",
      "```"
     ]
    },
    {
     "cell_type": "code",
     "collapsed": false,
     "input": [
      "np.array([1,2,3,4,5])"
     ],
     "language": "python",
     "metadata": {},
     "outputs": [
      {
       "metadata": {},
       "output_type": "pyout",
       "prompt_number": 24,
       "text": [
        "array([1, 2, 3, 4, 5])"
       ]
      }
     ],
     "prompt_number": 24
    },
    {
     "cell_type": "heading",
     "level": 4,
     "metadata": {},
     "source": [
      "Multi Dimentional Array"
     ]
    },
    {
     "cell_type": "code",
     "collapsed": false,
     "input": [
      "np.array([[1,2],[3,4],[5,6]])"
     ],
     "language": "python",
     "metadata": {},
     "outputs": [
      {
       "metadata": {},
       "output_type": "pyout",
       "prompt_number": 25,
       "text": [
        "array([[1, 2],\n",
        "       [3, 4],\n",
        "       [5, 6]])"
       ]
      }
     ],
     "prompt_number": 25
    },
    {
     "cell_type": "heading",
     "level": 3,
     "metadata": {},
     "source": [
      "zeros(shape, dtype=float, order='C')"
     ]
    },
    {
     "cell_type": "markdown",
     "metadata": {},
     "source": [
      "```\n",
      "Parameters\n",
      "----------\n",
      "shape : int or sequence of ints\n",
      "    Shape of the new array, e.g., ``(2, 3)`` or ``2``.\n",
      "dtype : data-type, optional\n",
      "    The desired data-type for the array, e.g., `numpy.int8`.  Default is\n",
      "    `numpy.float64`.\n",
      "order : {'C', 'F'}, optional\n",
      "    Whether to store multidimensional data in C- or Fortran-contiguous\n",
      "    (row- or column-wise) order in memory.\n",
      "```"
     ]
    },
    {
     "cell_type": "code",
     "collapsed": false,
     "input": [
      "np.zeros((3,4))"
     ],
     "language": "python",
     "metadata": {},
     "outputs": [
      {
       "metadata": {},
       "output_type": "pyout",
       "prompt_number": 26,
       "text": [
        "array([[ 0.,  0.,  0.,  0.],\n",
        "       [ 0.,  0.,  0.,  0.],\n",
        "       [ 0.,  0.,  0.,  0.]])"
       ]
      }
     ],
     "prompt_number": 26
    },
    {
     "cell_type": "code",
     "collapsed": false,
     "input": [
      "np.zeros((3,4), dtype=np.int64)"
     ],
     "language": "python",
     "metadata": {},
     "outputs": [
      {
       "metadata": {},
       "output_type": "pyout",
       "prompt_number": 27,
       "text": [
        "array([[0, 0, 0, 0],\n",
        "       [0, 0, 0, 0],\n",
        "       [0, 0, 0, 0]])"
       ]
      }
     ],
     "prompt_number": 27
    },
    {
     "cell_type": "heading",
     "level": 3,
     "metadata": {},
     "source": [
      "np.linspace(start, stop, num=50, endpoint=True, retstep=False)"
     ]
    },
    {
     "cell_type": "markdown",
     "metadata": {},
     "source": [
      "```\n",
      "Parameters\n",
      "----------\n",
      "start : scalar\n",
      "    The starting value of the sequence.\n",
      "stop : scalar\n",
      "    The end value of the sequence, unless `endpoint` is set to False.\n",
      "    In that case, the sequence consists of all but the last of ``num + 1``\n",
      "    evenly spaced samples, so that `stop` is excluded.  Note that the step\n",
      "    size changes when `endpoint` is False.\n",
      "num : int, optional\n",
      "    Number of samples to generate. Default is 50.\n",
      "endpoint : bool, optional\n",
      "    If True, `stop` is the last sample. Otherwise, it is not included.\n",
      "    Default is True.\n",
      "retstep : bool, optional\n",
      "    If True, return (`samples`, `step`), where `step` is the spacing\n",
      "    between samples.\n",
      "```"
     ]
    },
    {
     "cell_type": "code",
     "collapsed": false,
     "input": [
      "np.linspace(1,5)"
     ],
     "language": "python",
     "metadata": {},
     "outputs": [
      {
       "metadata": {},
       "output_type": "pyout",
       "prompt_number": 28,
       "text": [
        "array([ 1.        ,  1.08163265,  1.16326531,  1.24489796,  1.32653061,\n",
        "        1.40816327,  1.48979592,  1.57142857,  1.65306122,  1.73469388,\n",
        "        1.81632653,  1.89795918,  1.97959184,  2.06122449,  2.14285714,\n",
        "        2.2244898 ,  2.30612245,  2.3877551 ,  2.46938776,  2.55102041,\n",
        "        2.63265306,  2.71428571,  2.79591837,  2.87755102,  2.95918367,\n",
        "        3.04081633,  3.12244898,  3.20408163,  3.28571429,  3.36734694,\n",
        "        3.44897959,  3.53061224,  3.6122449 ,  3.69387755,  3.7755102 ,\n",
        "        3.85714286,  3.93877551,  4.02040816,  4.10204082,  4.18367347,\n",
        "        4.26530612,  4.34693878,  4.42857143,  4.51020408,  4.59183673,\n",
        "        4.67346939,  4.75510204,  4.83673469,  4.91836735,  5.        ])"
       ]
      }
     ],
     "prompt_number": 28
    },
    {
     "cell_type": "code",
     "collapsed": false,
     "input": [
      "np.linspace(0,2,num=4)"
     ],
     "language": "python",
     "metadata": {},
     "outputs": [
      {
       "metadata": {},
       "output_type": "pyout",
       "prompt_number": 29,
       "text": [
        "array([ 0.        ,  0.66666667,  1.33333333,  2.        ])"
       ]
      }
     ],
     "prompt_number": 29
    },
    {
     "cell_type": "code",
     "collapsed": false,
     "input": [
      "np.linspace(0,2,num=4,endpoint=False)"
     ],
     "language": "python",
     "metadata": {},
     "outputs": [
      {
       "metadata": {},
       "output_type": "pyout",
       "prompt_number": 30,
       "text": [
        "array([ 0. ,  0.5,  1. ,  1.5])"
       ]
      }
     ],
     "prompt_number": 30
    },
    {
     "cell_type": "heading",
     "level": 3,
     "metadata": {},
     "source": [
      "random_sample(size=None)"
     ]
    },
    {
     "cell_type": "markdown",
     "metadata": {},
     "source": [
      "```\n",
      "Parameters\n",
      "----------\n",
      "size : int or tuple of ints, optional\n",
      "    Defines the shape of the returned array of random floats. If None\n",
      "    (the default), returns a single float.\n",
      "```"
     ]
    },
    {
     "cell_type": "code",
     "collapsed": false,
     "input": [
      "np.random.random((2,3))"
     ],
     "language": "python",
     "metadata": {},
     "outputs": [
      {
       "metadata": {},
       "output_type": "pyout",
       "prompt_number": 31,
       "text": [
        "array([[ 0.60383905,  0.84632409,  0.18122863],\n",
        "       [ 0.73495109,  0.36127266,  0.27401845]])"
       ]
      }
     ],
     "prompt_number": 31
    },
    {
     "cell_type": "code",
     "collapsed": false,
     "input": [
      "np.random.random_sample((2,3))"
     ],
     "language": "python",
     "metadata": {},
     "outputs": [
      {
       "metadata": {},
       "output_type": "pyout",
       "prompt_number": 32,
       "text": [
        "array([[ 0.57143353,  0.23111517,  0.90913961],\n",
        "       [ 0.03532667,  0.44399022,  0.15470195]])"
       ]
      }
     ],
     "prompt_number": 32
    },
    {
     "cell_type": "heading",
     "level": 2,
     "metadata": {},
     "source": [
      "Statistical Analysis"
     ]
    },
    {
     "cell_type": "code",
     "collapsed": false,
     "input": [
      "data_set = np.random.random((2,3))\n",
      "data_set"
     ],
     "language": "python",
     "metadata": {},
     "outputs": [
      {
       "metadata": {},
       "output_type": "pyout",
       "prompt_number": 33,
       "text": [
        "array([[ 0.99101817,  0.91362334,  0.37546237],\n",
        "       [ 0.66962595,  0.27485988,  0.45081456]])"
       ]
      }
     ],
     "prompt_number": 33
    },
    {
     "cell_type": "heading",
     "level": 3,
     "metadata": {},
     "source": [
      "np.max(a, axis=None, out=None, keepdims=False)"
     ]
    },
    {
     "cell_type": "markdown",
     "metadata": {},
     "source": [
      "```\n",
      "Parameters\n",
      "----------\n",
      "a : array_like\n",
      "    Input data.\n",
      "axis : int, optional\n",
      "    Axis along which to operate.  By default, flattened input is used.\n",
      "out : ndarray, optional\n",
      "    Alternative output array in which to place the result.  Must\n",
      "    be of the same shape and buffer length as the expected output.\n",
      "    See `doc.ufuncs` (Section \"Output arguments\") for more details.\n",
      "keepdims : bool, optional\n",
      "    If this is set to True, the axes which are reduced are left\n",
      "    in the result as dimensions with size one. With this option,\n",
      "    the result will broadcast correctly against the original `arr`.\n",
      "```"
     ]
    },
    {
     "cell_type": "code",
     "collapsed": false,
     "input": [
      "np.max(data_set)"
     ],
     "language": "python",
     "metadata": {},
     "outputs": [
      {
       "metadata": {},
       "output_type": "pyout",
       "prompt_number": 34,
       "text": [
        "0.99101817417900118"
       ]
      }
     ],
     "prompt_number": 34
    },
    {
     "cell_type": "code",
     "collapsed": false,
     "input": [
      "np.max(data_set, axis=0)"
     ],
     "language": "python",
     "metadata": {},
     "outputs": [
      {
       "metadata": {},
       "output_type": "pyout",
       "prompt_number": 35,
       "text": [
        "array([ 0.99101817,  0.91362334,  0.45081456])"
       ]
      }
     ],
     "prompt_number": 35
    },
    {
     "cell_type": "code",
     "collapsed": false,
     "input": [
      "np.max(data_set, axis=1)"
     ],
     "language": "python",
     "metadata": {},
     "outputs": [
      {
       "metadata": {},
       "output_type": "pyout",
       "prompt_number": 36,
       "text": [
        "array([ 0.99101817,  0.66962595])"
       ]
      }
     ],
     "prompt_number": 36
    },
    {
     "cell_type": "heading",
     "level": 3,
     "metadata": {},
     "source": [
      "np.min(a, axis=None, out=None, keepdims=False)"
     ]
    },
    {
     "cell_type": "code",
     "collapsed": false,
     "input": [
      "np.min(data_set)"
     ],
     "language": "python",
     "metadata": {},
     "outputs": [
      {
       "metadata": {},
       "output_type": "pyout",
       "prompt_number": 37,
       "text": [
        "0.2748598782158802"
       ]
      }
     ],
     "prompt_number": 37
    },
    {
     "cell_type": "heading",
     "level": 3,
     "metadata": {},
     "source": [
      "np.mean(a, axis=None, dtype=None, out=None, keepdims=False)"
     ]
    },
    {
     "cell_type": "code",
     "collapsed": false,
     "input": [
      "np.mean(data_set)"
     ],
     "language": "python",
     "metadata": {},
     "outputs": [
      {
       "metadata": {},
       "output_type": "pyout",
       "prompt_number": 38,
       "text": [
        "0.6125673792901426"
       ]
      }
     ],
     "prompt_number": 38
    },
    {
     "cell_type": "heading",
     "level": 3,
     "metadata": {},
     "source": [
      "np.median(a, axis=None, out=None, overwrite_input=False)"
     ]
    },
    {
     "cell_type": "code",
     "collapsed": false,
     "input": [
      "np.median(data_set)"
     ],
     "language": "python",
     "metadata": {},
     "outputs": [
      {
       "metadata": {},
       "output_type": "pyout",
       "prompt_number": 39,
       "text": [
        "0.56022025506863438"
       ]
      }
     ],
     "prompt_number": 39
    },
    {
     "cell_type": "heading",
     "level": 3,
     "metadata": {},
     "source": [
      "np.std(a, axis=None, dtype=None, out=None, ddof=0, keepdims=False)"
     ]
    },
    {
     "cell_type": "code",
     "collapsed": false,
     "input": [
      "np.std(data_set)"
     ],
     "language": "python",
     "metadata": {},
     "outputs": [
      {
       "metadata": {},
       "output_type": "pyout",
       "prompt_number": 40,
       "text": [
        "0.2688073942829961"
       ]
      }
     ],
     "prompt_number": 40
    },
    {
     "cell_type": "heading",
     "level": 3,
     "metadata": {},
     "source": [
      "np.sum(a, axis=None, dtype=None, out=None, keepdims=False)"
     ]
    },
    {
     "cell_type": "code",
     "collapsed": false,
     "input": [
      "np.sum(data_set)"
     ],
     "language": "python",
     "metadata": {},
     "outputs": [
      {
       "metadata": {},
       "output_type": "pyout",
       "prompt_number": 41,
       "text": [
        "3.6754042757408558"
       ]
      }
     ],
     "prompt_number": 41
    },
    {
     "cell_type": "heading",
     "level": 2,
     "metadata": {},
     "source": [
      "Reshaping"
     ]
    },
    {
     "cell_type": "heading",
     "level": 3,
     "metadata": {},
     "source": [
      "np.reshape(a, newshape, order='C')"
     ]
    },
    {
     "cell_type": "code",
     "collapsed": false,
     "input": [
      "np.reshape(data_set, (3,2))"
     ],
     "language": "python",
     "metadata": {},
     "outputs": [
      {
       "metadata": {},
       "output_type": "pyout",
       "prompt_number": 42,
       "text": [
        "array([[ 0.99101817,  0.91362334],\n",
        "       [ 0.37546237,  0.66962595],\n",
        "       [ 0.27485988,  0.45081456]])"
       ]
      }
     ],
     "prompt_number": 42
    },
    {
     "cell_type": "code",
     "collapsed": false,
     "input": [
      "np.reshape(data_set, (6,1))"
     ],
     "language": "python",
     "metadata": {},
     "outputs": [
      {
       "metadata": {},
       "output_type": "pyout",
       "prompt_number": 43,
       "text": [
        "array([[ 0.99101817],\n",
        "       [ 0.91362334],\n",
        "       [ 0.37546237],\n",
        "       [ 0.66962595],\n",
        "       [ 0.27485988],\n",
        "       [ 0.45081456]])"
       ]
      }
     ],
     "prompt_number": 43
    },
    {
     "cell_type": "code",
     "collapsed": false,
     "input": [
      "np.reshape(data_set, (6))"
     ],
     "language": "python",
     "metadata": {},
     "outputs": [
      {
       "metadata": {},
       "output_type": "pyout",
       "prompt_number": 44,
       "text": [
        "array([ 0.99101817,  0.91362334,  0.37546237,  0.66962595,  0.27485988,\n",
        "        0.45081456])"
       ]
      }
     ],
     "prompt_number": 44
    },
    {
     "cell_type": "heading",
     "level": 3,
     "metadata": {},
     "source": [
      "np.ravel(a, order='C')"
     ]
    },
    {
     "cell_type": "code",
     "collapsed": false,
     "input": [
      "np.ravel(data_set)"
     ],
     "language": "python",
     "metadata": {},
     "outputs": [
      {
       "metadata": {},
       "output_type": "pyout",
       "prompt_number": 45,
       "text": [
        "array([ 0.99101817,  0.91362334,  0.37546237,  0.66962595,  0.27485988,\n",
        "        0.45081456])"
       ]
      }
     ],
     "prompt_number": 45
    },
    {
     "cell_type": "heading",
     "level": 3,
     "metadata": {},
     "source": [
      "Slicing"
     ]
    },
    {
     "cell_type": "code",
     "collapsed": false,
     "input": [
      "data_set = np.random.random((5,10))\n",
      "data_set"
     ],
     "language": "python",
     "metadata": {},
     "outputs": [
      {
       "metadata": {},
       "output_type": "pyout",
       "prompt_number": 46,
       "text": [
        "array([[ 0.2187482 ,  0.87071416,  0.73663416,  0.27910705,  0.78239476,\n",
        "         0.53835918,  0.51234398,  0.72563682,  0.7497531 ,  0.61090375],\n",
        "       [ 0.46166143,  0.84292073,  0.19234863,  0.31204936,  0.64249925,\n",
        "         0.23149184,  0.45047676,  0.79576087,  0.84369549,  0.09006852],\n",
        "       [ 0.74299397,  0.91711184,  0.76535827,  0.16743916,  0.33435712,\n",
        "         0.50974527,  0.82367946,  0.03806086,  0.70315627,  0.58959405],\n",
        "       [ 0.74813493,  0.5738713 ,  0.40863753,  0.44157988,  0.32909602,\n",
        "         0.51802248,  0.33975736,  0.36404317,  0.70869127,  0.50686958],\n",
        "       [ 0.48861471,  0.16930154,  0.03239842,  0.0835669 ,  0.44708358,\n",
        "         0.8001063 ,  0.39644714,  0.83747988,  0.71102625,  0.44535013]])"
       ]
      }
     ],
     "prompt_number": 46
    },
    {
     "cell_type": "code",
     "collapsed": false,
     "input": [
      "data_set[1]"
     ],
     "language": "python",
     "metadata": {},
     "outputs": [
      {
       "metadata": {},
       "output_type": "pyout",
       "prompt_number": 47,
       "text": [
        "array([ 0.46166143,  0.84292073,  0.19234863,  0.31204936,  0.64249925,\n",
        "        0.23149184,  0.45047676,  0.79576087,  0.84369549,  0.09006852])"
       ]
      }
     ],
     "prompt_number": 47
    },
    {
     "cell_type": "code",
     "collapsed": false,
     "input": [
      "data_set[1][0]"
     ],
     "language": "python",
     "metadata": {},
     "outputs": [
      {
       "metadata": {},
       "output_type": "pyout",
       "prompt_number": 48,
       "text": [
        "0.46166143118294922"
       ]
      }
     ],
     "prompt_number": 48
    },
    {
     "cell_type": "code",
     "collapsed": false,
     "input": [
      "data_set[1,0]"
     ],
     "language": "python",
     "metadata": {},
     "outputs": [
      {
       "metadata": {},
       "output_type": "pyout",
       "prompt_number": 49,
       "text": [
        "0.46166143118294922"
       ]
      }
     ],
     "prompt_number": 49
    },
    {
     "cell_type": "heading",
     "level": 4,
     "metadata": {},
     "source": [
      "Slicing a range"
     ]
    },
    {
     "cell_type": "code",
     "collapsed": false,
     "input": [
      "data_set[2:4]"
     ],
     "language": "python",
     "metadata": {},
     "outputs": [
      {
       "metadata": {},
       "output_type": "pyout",
       "prompt_number": 50,
       "text": [
        "array([[ 0.74299397,  0.91711184,  0.76535827,  0.16743916,  0.33435712,\n",
        "         0.50974527,  0.82367946,  0.03806086,  0.70315627,  0.58959405],\n",
        "       [ 0.74813493,  0.5738713 ,  0.40863753,  0.44157988,  0.32909602,\n",
        "         0.51802248,  0.33975736,  0.36404317,  0.70869127,  0.50686958]])"
       ]
      }
     ],
     "prompt_number": 50
    },
    {
     "cell_type": "code",
     "collapsed": false,
     "input": [
      "data_set[2:4,0]"
     ],
     "language": "python",
     "metadata": {},
     "outputs": [
      {
       "metadata": {},
       "output_type": "pyout",
       "prompt_number": 51,
       "text": [
        "array([ 0.74299397,  0.74813493])"
       ]
      }
     ],
     "prompt_number": 51
    },
    {
     "cell_type": "code",
     "collapsed": false,
     "input": [
      "data_set[2:4,0:2]"
     ],
     "language": "python",
     "metadata": {},
     "outputs": [
      {
       "metadata": {},
       "output_type": "pyout",
       "prompt_number": 52,
       "text": [
        "array([[ 0.74299397,  0.91711184],\n",
        "       [ 0.74813493,  0.5738713 ]])"
       ]
      }
     ],
     "prompt_number": 52
    },
    {
     "cell_type": "code",
     "collapsed": false,
     "input": [
      "data_set[:,0]"
     ],
     "language": "python",
     "metadata": {},
     "outputs": [
      {
       "metadata": {},
       "output_type": "pyout",
       "prompt_number": 53,
       "text": [
        "array([ 0.2187482 ,  0.46166143,  0.74299397,  0.74813493,  0.48861471])"
       ]
      }
     ],
     "prompt_number": 53
    },
    {
     "cell_type": "heading",
     "level": 4,
     "metadata": {},
     "source": [
      "Stepping"
     ]
    },
    {
     "cell_type": "code",
     "collapsed": false,
     "input": [
      "data_set[2:4:1]"
     ],
     "language": "python",
     "metadata": {},
     "outputs": [
      {
       "metadata": {},
       "output_type": "pyout",
       "prompt_number": 54,
       "text": [
        "array([[ 0.74299397,  0.91711184,  0.76535827,  0.16743916,  0.33435712,\n",
        "         0.50974527,  0.82367946,  0.03806086,  0.70315627,  0.58959405],\n",
        "       [ 0.74813493,  0.5738713 ,  0.40863753,  0.44157988,  0.32909602,\n",
        "         0.51802248,  0.33975736,  0.36404317,  0.70869127,  0.50686958]])"
       ]
      }
     ],
     "prompt_number": 54
    },
    {
     "cell_type": "code",
     "collapsed": false,
     "input": [
      "data_set[::]"
     ],
     "language": "python",
     "metadata": {},
     "outputs": [
      {
       "metadata": {},
       "output_type": "pyout",
       "prompt_number": 55,
       "text": [
        "array([[ 0.2187482 ,  0.87071416,  0.73663416,  0.27910705,  0.78239476,\n",
        "         0.53835918,  0.51234398,  0.72563682,  0.7497531 ,  0.61090375],\n",
        "       [ 0.46166143,  0.84292073,  0.19234863,  0.31204936,  0.64249925,\n",
        "         0.23149184,  0.45047676,  0.79576087,  0.84369549,  0.09006852],\n",
        "       [ 0.74299397,  0.91711184,  0.76535827,  0.16743916,  0.33435712,\n",
        "         0.50974527,  0.82367946,  0.03806086,  0.70315627,  0.58959405],\n",
        "       [ 0.74813493,  0.5738713 ,  0.40863753,  0.44157988,  0.32909602,\n",
        "         0.51802248,  0.33975736,  0.36404317,  0.70869127,  0.50686958],\n",
        "       [ 0.48861471,  0.16930154,  0.03239842,  0.0835669 ,  0.44708358,\n",
        "         0.8001063 ,  0.39644714,  0.83747988,  0.71102625,  0.44535013]])"
       ]
      }
     ],
     "prompt_number": 55
    },
    {
     "cell_type": "code",
     "collapsed": false,
     "input": [
      "data_set[::2]"
     ],
     "language": "python",
     "metadata": {},
     "outputs": [
      {
       "metadata": {},
       "output_type": "pyout",
       "prompt_number": 56,
       "text": [
        "array([[ 0.2187482 ,  0.87071416,  0.73663416,  0.27910705,  0.78239476,\n",
        "         0.53835918,  0.51234398,  0.72563682,  0.7497531 ,  0.61090375],\n",
        "       [ 0.74299397,  0.91711184,  0.76535827,  0.16743916,  0.33435712,\n",
        "         0.50974527,  0.82367946,  0.03806086,  0.70315627,  0.58959405],\n",
        "       [ 0.48861471,  0.16930154,  0.03239842,  0.0835669 ,  0.44708358,\n",
        "         0.8001063 ,  0.39644714,  0.83747988,  0.71102625,  0.44535013]])"
       ]
      }
     ],
     "prompt_number": 56
    },
    {
     "cell_type": "code",
     "collapsed": false,
     "input": [
      "data_set[2:4]"
     ],
     "language": "python",
     "metadata": {},
     "outputs": [
      {
       "metadata": {},
       "output_type": "pyout",
       "prompt_number": 57,
       "text": [
        "array([[ 0.74299397,  0.91711184,  0.76535827,  0.16743916,  0.33435712,\n",
        "         0.50974527,  0.82367946,  0.03806086,  0.70315627,  0.58959405],\n",
        "       [ 0.74813493,  0.5738713 ,  0.40863753,  0.44157988,  0.32909602,\n",
        "         0.51802248,  0.33975736,  0.36404317,  0.70869127,  0.50686958]])"
       ]
      }
     ],
     "prompt_number": 57
    },
    {
     "cell_type": "code",
     "collapsed": false,
     "input": [
      "data_set[2:4,::2]"
     ],
     "language": "python",
     "metadata": {},
     "outputs": [
      {
       "metadata": {},
       "output_type": "pyout",
       "prompt_number": 58,
       "text": [
        "array([[ 0.74299397,  0.76535827,  0.33435712,  0.82367946,  0.70315627],\n",
        "       [ 0.74813493,  0.40863753,  0.32909602,  0.33975736,  0.70869127]])"
       ]
      }
     ],
     "prompt_number": 58
    }
   ],
   "metadata": {}
  }
 ]
}
