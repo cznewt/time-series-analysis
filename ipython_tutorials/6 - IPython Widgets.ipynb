{
 "metadata": {
  "name": "",
  "signature": "sha256:637e4665e22d75ddc62a34727f56aa8287e7dfabd88721e5f2985ec00657bd5a"
 },
 "nbformat": 3,
 "nbformat_minor": 0,
 "worksheets": [
  {
   "cells": [
    {
     "cell_type": "heading",
     "level": 1,
     "metadata": {},
     "source": [
      "Tutorial Brief"
     ]
    },
    {
     "cell_type": "markdown",
     "metadata": {},
     "source": [
      "IPython notebook provides a variaty of web widgets that can interact with python code running the the background kernel.\n",
      "\n",
      "Finding Help:\n",
      "\n",
      "- http://nbviewer.ipython.org/github/ipython/ipython/blob/2.x/examples/Interactive%20Widgets/Index.ipynb"
     ]
    },
    {
     "cell_type": "markdown",
     "metadata": {},
     "source": [
      "<table>\n",
      "<tr>\n",
      "    <td><img src=\"http://www.scipy.org/_static/images/numpylogo_med.png\"  style=\"width:50px;height:50px;\" /></td>\n",
      "    <td><h4>NumPy</h4> Base N-dimensional array package </td>\n",
      "    <td><img src=\"http://www.scipy.org/_static/images/scipy_med.png\" style=\"width:50px;height:50px;\" /></td>\n",
      "    <td><h4>SciPy</h4> Fundamental library for scientific computing </td>\n",
      "    <td><img src=\"http://www.scipy.org/_static/images/matplotlib_med.png\" style=\"width:50px;height:50px;\" /></td>\n",
      "    <td><h4>Matplotlib</h4> Comprehensive 2D Plotting </td>\n",
      "</tr>\n",
      "<tr>\n",
      "    <td style=\"background:Lavender;\"><img src=\"http://www.scipy.org/_static/images/ipython.png\" style=\"width:50px;height:50px;\" /></td>\n",
      "    <td style=\"background:Lavender;\"><h4>IPython</h4> Enhanced Interactive Console </td>\n",
      "    <td><img src=\"http://www.scipy.org/_static/images/sympy_logo.png\" style=\"width:50px;height:50px;\" /></td>\n",
      "    <td><h4>SymPy</h4> Symbolic mathematics </td>\n",
      "    <td><img src=\"http://www.scipy.org/_static/images/pandas_badge2.jpg\" style=\"width:50px;height:50px;\" /></td>\n",
      "    <td><h4>Pandas</h4> Data structures & analysis </td>\n",
      "</tr>\n",
      "</table>"
     ]
    },
    {
     "cell_type": "heading",
     "level": 1,
     "metadata": {},
     "source": [
      "Why do we use widgets?"
     ]
    },
    {
     "cell_type": "markdown",
     "metadata": {},
     "source": [
      "> ##IPython includes an architecture for interactive widgets that tie together Python code running in the kernel and JavaScript/HTML/CSS running in the browser. These widgets enable users to explore their code and data interactively.\n",
      "> *http://nbviewer.ipython.org/github/ipython/ipython/blob/2.x/examples/Interactive%20Widgets/Index.ipynb*"
     ]
    },
    {
     "cell_type": "heading",
     "level": 1,
     "metadata": {},
     "source": [
      "Import libraries"
     ]
    },
    {
     "cell_type": "code",
     "collapsed": false,
     "input": [
      "import numpy as np\n",
      "import matplotlib.pyplot as plt\n",
      "\n",
      "from IPython.html import widgets\n",
      "from IPython.html.widgets import interact\n",
      "from IPython.display import display"
     ],
     "language": "python",
     "metadata": {},
     "outputs": [],
     "prompt_number": 1
    },
    {
     "cell_type": "heading",
     "level": 2,
     "metadata": {},
     "source": [
      "Build-it Widgets"
     ]
    },
    {
     "cell_type": "code",
     "collapsed": false,
     "input": [
      "tab1_children = [widgets.ButtonWidget(description=\"ButtonWidget\"),\n",
      "                 widgets.CheckboxWidget(description=\"CheckboxWidget\"),\n",
      "                 widgets.DropdownWidget(values=[1, 2], description=\"DropdownWidget\"),\n",
      "                 widgets.RadioButtonsWidget(values=[1, 2], description=\"RadioButtonsWidget\"),\n",
      "                 widgets.SelectWidget(values=[1, 2], description=\"SelectWidget\"),\n",
      "                 widgets.TextWidget(description=\"TextWidget\"),\n",
      "                 widgets.TextareaWidget(description=\"TextareaWidget\"),\n",
      "                 widgets.ToggleButtonWidget(description=\"ToggleButtonWidget\"),\n",
      "                 widgets.ToggleButtonsWidget(values=[\"Value 1\", \"Value2\"], description=\"ToggleButtonsWidget\"),\n",
      "                 ]\n",
      "\n",
      "tab2_children = [widgets.BoundedFloatTextWidget(description=\"BoundedFloatTextWidget\"),\n",
      "                 widgets.BoundedIntTextWidget(description=\"BoundedIntTextWidget\"),\n",
      "                 widgets.FloatSliderWidget(description=\"FloatSliderWidget\"),\n",
      "                 widgets.FloatTextWidget(description=\"FloatTextWidget\"),\n",
      "                 widgets.IntSliderWidget(description=\"IntSliderWidget\"),\n",
      "                 widgets.IntTextWidget(description=\"IntTextWidget\"),\n",
      "                 ]\n",
      "\n",
      "tab1 = widgets.ContainerWidget(children=tab1_children)\n",
      "tab2 = widgets.ContainerWidget(children=tab2_children)\n",
      "\n",
      "\n",
      "i = widgets.AccordionWidget(children=[tab1, tab2])\n",
      "\n",
      "i.set_title(0,\"Basic Widgets\")\n",
      "i.set_title(1,\"Numbers Input\")\n",
      "\n",
      "display(i)"
     ],
     "language": "python",
     "metadata": {},
     "outputs": [],
     "prompt_number": 2
    },
    {
     "cell_type": "heading",
     "level": 1,
     "metadata": {},
     "source": [
      "Simple Example"
     ]
    },
    {
     "cell_type": "markdown",
     "metadata": {},
     "source": [
      "We will define a function that print the factorial.\n",
      "\n",
      "$f(x) = x!$\n",
      "\n",
      "$f(x) = x \\times (x-1) \\times ... 1$\n",
      "\n",
      "$f(3) = 3! = 3 \\times 2 \\times 1 = 6$"
     ]
    },
    {
     "cell_type": "code",
     "collapsed": false,
     "input": [
      "def factorial(x):\n",
      "    print \"%s!= %s\" % (x,np.math.factorial(x))\n",
      "\n",
      "def factorial2(x):\n",
      "    if type(x) == int:\n",
      "        if x >= 0:\n",
      "            print np.prod(np.arange(1,x+1))\n",
      "        else:\n",
      "            print \"ERROR: Number must be positive\"\n",
      "    else:\n",
      "        print \"ERROR: Only interger is allowed\""
     ],
     "language": "python",
     "metadata": {},
     "outputs": [],
     "prompt_number": 3
    },
    {
     "cell_type": "markdown",
     "metadata": {},
     "source": [
      "Now we will test it using a code cell"
     ]
    },
    {
     "cell_type": "code",
     "collapsed": false,
     "input": [
      "factorial(3)"
     ],
     "language": "python",
     "metadata": {},
     "outputs": [
      {
       "output_type": "stream",
       "stream": "stdout",
       "text": [
        "3!= 6\n"
       ]
      }
     ],
     "prompt_number": 4
    },
    {
     "cell_type": "heading",
     "level": 1,
     "metadata": {},
     "source": [
      "Using interact function"
     ]
    },
    {
     "cell_type": "markdown",
     "metadata": {},
     "source": [
      "We will link that to a slider to make the x a variable that we can control."
     ]
    },
    {
     "cell_type": "code",
     "collapsed": false,
     "input": [
      "i = interact(factorial, x=(0,100))"
     ],
     "language": "python",
     "metadata": {},
     "outputs": [
      {
       "output_type": "stream",
       "stream": "stdout",
       "text": [
        "100!= 93326215443944152681699238856266700490715968264381621468592963895217599993229915608941463976156518286253697920827223758251185210916864000000000000000000000000\n"
       ]
      }
     ],
     "prompt_number": 5
    },
    {
     "cell_type": "heading",
     "level": 2,
     "metadata": {},
     "source": [
      "Controlling a Chart"
     ]
    },
    {
     "cell_type": "code",
     "collapsed": false,
     "input": [
      "#This function plot x, y and adds a title\n",
      "def plt_arrays(x, y, title=\"\", color=\"red\", linestyle=\"dashed\", linewidth=2):\n",
      "    fig = plt.figure()\n",
      "    axes = fig.add_subplot(111)\n",
      "    axes.plot(x,y, color=color, linestyle=linestyle, linewidth=linewidth)\n",
      "    axes.set_title(title)\n",
      "    axes.grid()\n",
      "    plt.show()"
     ],
     "language": "python",
     "metadata": {},
     "outputs": [],
     "prompt_number": 13
    },
    {
     "cell_type": "markdown",
     "metadata": {},
     "source": [
      "We will define a function that return the following:\n",
      "\n",
      "$f(x) = ax^3 + bx^2 + cx + d$\n",
      "\n",
      "where a,b,c and d are are constants."
     ]
    },
    {
     "cell_type": "code",
     "collapsed": false,
     "input": [
      "def f(a, b, c, d, **kwargs):\n",
      "    x=np.linspace(-10, 10, 20)\n",
      "    y = a*(x**3) + b*(x**2) + c*x + d\n",
      "    \n",
      "    title=\"$f(x) = (%s)x^{3} + (%s)x^{2} + (%s)x + (%s)$\" % (a,b,c,d)\n",
      "    \n",
      "    plt_arrays(x,y, title=title, **kwargs)"
     ],
     "language": "python",
     "metadata": {},
     "outputs": [],
     "prompt_number": 11
    },
    {
     "cell_type": "code",
     "collapsed": false,
     "input": [
      "#Define Constants\n",
      "a=0.25\n",
      "b=2\n",
      "c=-4\n",
      "d=0\n",
      "\n",
      "f(a, b, c, d)"
     ],
     "language": "python",
     "metadata": {},
     "outputs": [
      {
       "metadata": {},
       "output_type": "display_data",
       "png": "[encoded data removed]",
       "text": [
        "<matplotlib.figure.Figure at 0x7f0eae068590>"
       ]
      }
     ],
     "prompt_number": 8
    },
    {
     "cell_type": "code",
     "collapsed": false,
     "input": [
      "i = interact(f,\n",
      "             a=(-10.,10),\n",
      "             b=(-10.,10),\n",
      "             c=(-10.,10),\n",
      "             d=(-10.,10),\n",
      "             color = [\"red\", \"blue\", \"green\"],\n",
      "             linestyle=[\"solid\", \"dashed\"],\n",
      "             linewidth=(1,5)\n",
      "             )"
     ],
     "language": "python",
     "metadata": {},
     "outputs": [
      {
       "metadata": {},
       "output_type": "display_data",
       "png": "[encoded data removed]",
       "text": [
        "<matplotlib.figure.Figure at 0x7f7b76843050>"
       ]
      }
     ],
     "prompt_number": 14
    },
    {
     "cell_type": "heading",
     "level": 2,
     "metadata": {},
     "source": [
      "Displaying a widget from interact function"
     ]
    },
    {
     "cell_type": "code",
     "collapsed": false,
     "input": [
      "i.widget"
     ],
     "language": "python",
     "metadata": {},
     "outputs": [
      {
       "metadata": {},
       "output_type": "display_data",
       "png": "[encoded data removed]",
       "text": [
        "<matplotlib.figure.Figure at 0x7f7b76831390>"
       ]
      }
     ],
     "prompt_number": 17
    }
   ],
   "metadata": {}
  }
 ]
}
