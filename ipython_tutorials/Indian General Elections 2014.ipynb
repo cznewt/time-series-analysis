{
 "cells": [
  {
   "cell_type": "markdown",
   "metadata": {},
   "source": [
    "# Tutorial Brief"
   ]
  },
  {
   "cell_type": "markdown",
   "metadata": {},
   "source": [
    "This is an a review of how to use IPython Notebooks."
   ]
  },
  {
   "cell_type": "markdown",
   "metadata": {},
   "source": [
    "# Data Sources"
   ]
  },
  {
   "cell_type": "markdown",
   "metadata": {},
   "source": [
    "- http://en.wikipedia.org/wiki/List_of_constituencies_of_the_Lok_Sabha\n",
    "- http://eci.nic.in/eci_main1/GE2014/ge.html\n",
    "- http://eci.nic.in/eci/eci.html\n",
    "- http://eci.nic.in/eci_main1/current/ImpIns04042014.pdf\n",
    "- http://eci.nic.in/eci_main1/GE2014/PC_WISE_TURNOUT.htm"
   ]
  },
  {
   "cell_type": "markdown",
   "metadata": {},
   "source": [
    "# Loading the data using Pandas"
   ]
  },
  {
   "cell_type": "code",
   "execution_count": 2,
   "metadata": {
    "collapsed": false
   },
   "outputs": [
    {
     "ename": "ImportError",
     "evalue": "No module named pandas",
     "output_type": "error",
     "traceback": [
      "\u001b[1;31m---------------------------------------------------------------------------\u001b[0m",
      "\u001b[1;31mImportError\u001b[0m                               Traceback (most recent call last)",
      "\u001b[1;32m<ipython-input-2-42d0003bfd1f>\u001b[0m in \u001b[0;36m<module>\u001b[1;34m()\u001b[0m\n\u001b[1;32m----> 1\u001b[1;33m \u001b[1;32mimport\u001b[0m \u001b[0mpandas\u001b[0m \u001b[1;32mas\u001b[0m \u001b[0mpd\u001b[0m\u001b[1;33m\u001b[0m\u001b[0m\n\u001b[0m\u001b[0;32m      2\u001b[0m \u001b[1;31m#This line is to make float division the default. For int division use //\u001b[0m\u001b[1;33m\u001b[0m\u001b[1;33m\u001b[0m\u001b[0m\n\u001b[0;32m      3\u001b[0m \u001b[1;32mfrom\u001b[0m \u001b[0m__future__\u001b[0m \u001b[1;32mimport\u001b[0m \u001b[0mdivision\u001b[0m\u001b[1;33m\u001b[0m\u001b[0m\n",
      "\u001b[1;31mImportError\u001b[0m: No module named pandas"
     ]
    }
   ],
   "source": [
    "import pandas as pd\n",
    "#This line is to make float division the default. For int division use //\n",
    "from __future__ import division"
   ]
  },
  {
   "cell_type": "code",
   "execution_count": 3,
   "metadata": {
    "collapsed": false
   },
   "outputs": [
    {
     "ename": "NameError",
     "evalue": "name 'pd' is not defined",
     "output_type": "error",
     "traceback": [
      "\u001b[1;31m---------------------------------------------------------------------------\u001b[0m",
      "\u001b[1;31mNameError\u001b[0m                                 Traceback (most recent call last)",
      "\u001b[1;32m<ipython-input-3-30d35f2b9c7a>\u001b[0m in \u001b[0;36m<module>\u001b[1;34m()\u001b[0m\n\u001b[0;32m      1\u001b[0m \u001b[0mpath\u001b[0m \u001b[1;33m=\u001b[0m \u001b[1;34m\"data/2014_indian_election_turnout.csv\"\u001b[0m\u001b[1;33m\u001b[0m\u001b[0m\n\u001b[1;32m----> 2\u001b[1;33m \u001b[0mcsv_data\u001b[0m \u001b[1;33m=\u001b[0m \u001b[0mpd\u001b[0m\u001b[1;33m.\u001b[0m\u001b[0mread_csv\u001b[0m\u001b[1;33m(\u001b[0m\u001b[0mpath\u001b[0m\u001b[1;33m)\u001b[0m\u001b[1;33m\u001b[0m\u001b[0m\n\u001b[0m\u001b[0;32m      3\u001b[0m \u001b[0mcsv_data\u001b[0m\u001b[1;33m\u001b[0m\u001b[0m\n",
      "\u001b[1;31mNameError\u001b[0m: name 'pd' is not defined"
     ]
    }
   ],
   "source": [
    "path = \"data/2014_indian_election_turnout.csv\"\n",
    "csv_data = pd.read_csv(path)\n",
    "csv_data"
   ]
  },
  {
   "cell_type": "markdown",
   "metadata": {},
   "source": [
    "# Understanding the data"
   ]
  },
  {
   "cell_type": "markdown",
   "metadata": {},
   "source": [
    "- **State**: State Name.\n",
    "- **PC Name**:  Parliamentary Constituencies Names.\n",
    "- **Male Electors**: The number of elegeble male voters.\n",
    "- **Male Voters**: The number of male voters turnout.\n",
    "- **Female Electors**: The number of elegeble female voters.\n",
    "- **Female Voters**: The number of female voters turnout.\n",
    "- **Total Electors**: The number of elegeble voters.\n",
    "- **Total Voters**: The number of voters turnout."
   ]
  },
  {
   "cell_type": "markdown",
   "metadata": {},
   "source": [
    "![](http://upload.wikimedia.org/wikipedia/commons/3/3a/Lok_Sabha_constituencies_of_India.png)\n",
    "![](http://upload.wikimedia.org/wikipedia/commons/c/c1/State_and_union_territories_map.png)"
   ]
  },
  {
   "cell_type": "markdown",
   "metadata": {},
   "source": [
    "# Calculating Turnout"
   ]
  },
  {
   "cell_type": "code",
   "execution_count": null,
   "metadata": {
    "collapsed": false
   },
   "outputs": [],
   "source": [
    "csv_data[\"Male Turnout\"] = csv_data[\"Male Voters\"] / csv_data[\"Male Electors\"]\n",
    "csv_data[\"Female Turnout\"] = csv_data[\"Female Voters\"] / csv_data[\"Female Electors\"]\n",
    "csv_data[\"Total Turnout\"] = csv_data[\"Total Voters\"] / csv_data[\"Total Electors\"]"
   ]
  },
  {
   "cell_type": "markdown",
   "metadata": {},
   "source": [
    "# Statistical Analysis of Turnout"
   ]
  },
  {
   "cell_type": "code",
   "execution_count": null,
   "metadata": {
    "collapsed": false
   },
   "outputs": [],
   "source": [
    "csv_data.describe()"
   ]
  },
  {
   "cell_type": "markdown",
   "metadata": {},
   "source": [
    "## Quick Facts"
   ]
  },
  {
   "cell_type": "markdown",
   "metadata": {},
   "source": [
    "### Total Electors"
   ]
  },
  {
   "cell_type": "code",
   "execution_count": null,
   "metadata": {
    "collapsed": false
   },
   "outputs": [],
   "source": [
    "print '{0:,}'.format(csv_data[\"Total Electors\"].sum())"
   ]
  },
  {
   "cell_type": "markdown",
   "metadata": {},
   "source": [
    "### Gender Ration (Men to Women)"
   ]
  },
  {
   "cell_type": "code",
   "execution_count": null,
   "metadata": {
    "collapsed": false
   },
   "outputs": [],
   "source": [
    "print '%.2f%%' % (csv_data[\"Female Electors\"].sum() / csv_data[\"Male Electors\"].sum()*100)"
   ]
  },
  {
   "cell_type": "markdown",
   "metadata": {},
   "source": [
    "### Total Voters"
   ]
  },
  {
   "cell_type": "code",
   "execution_count": null,
   "metadata": {
    "collapsed": false
   },
   "outputs": [],
   "source": [
    "print '{0:,}'.format(csv_data[\"Total Voters\"].sum())"
   ]
  },
  {
   "cell_type": "markdown",
   "metadata": {},
   "source": [
    "### Total Turnout"
   ]
  },
  {
   "cell_type": "code",
   "execution_count": null,
   "metadata": {
    "collapsed": false
   },
   "outputs": [],
   "source": [
    "print '%.2f%%' % (csv_data[\"Total Voters\"].sum() / csv_data[\"Total Electors\"].sum() * 100)"
   ]
  },
  {
   "cell_type": "markdown",
   "metadata": {},
   "source": [
    "## Analyzing States"
   ]
  },
  {
   "cell_type": "code",
   "execution_count": null,
   "metadata": {
    "collapsed": false
   },
   "outputs": [],
   "source": [
    "states = pd.DataFrame(csv_data[\"State\"].unique(), columns=[\"State\"])\n",
    "print \"The number of states: %s\" % len(states)\n",
    "states"
   ]
  },
  {
   "cell_type": "code",
   "execution_count": null,
   "metadata": {
    "collapsed": false
   },
   "outputs": [],
   "source": [
    "# Calculating constituencies\n",
    "seats = csv_data[\"State\"].value_counts()\n",
    "states[\"Seats\"] = seats.sort_index().values\n",
    "states.sort(\"Seats\", ascending=False)"
   ]
  },
  {
   "cell_type": "markdown",
   "metadata": {},
   "source": [
    "## Calculating Total States Electors and Voters"
   ]
  },
  {
   "cell_type": "code",
   "execution_count": null,
   "metadata": {
    "collapsed": false
   },
   "outputs": [],
   "source": [
    "total_electors = pd.pivot_table(csv_data, values=\"Total Electors\", rows=[\"State\"], aggfunc=\"sum\")\n",
    "total_votes = pd.pivot_table(csv_data, values=\"Total Voters\", rows=[\"State\"], aggfunc=\"sum\")\n",
    "states[\"Total Electors\"] = total_electors.sort_index().values\n",
    "states[\"Total Voters\"] = total_votes.sort_index().values\n",
    "states.sort(\"Total Electors\", ascending=False)"
   ]
  },
  {
   "cell_type": "markdown",
   "metadata": {},
   "source": [
    "## Calculating State Turnout"
   ]
  },
  {
   "cell_type": "code",
   "execution_count": null,
   "metadata": {
    "collapsed": false
   },
   "outputs": [],
   "source": [
    "states[\"Turnout\"] = states[\"Total Voters\"] / states[\"Total Electors\"]\n",
    "states.sort(\"Turnout\", ascending=False)"
   ]
  },
  {
   "cell_type": "markdown",
   "metadata": {},
   "source": [
    "## Calculating Electors Per Seat"
   ]
  },
  {
   "cell_type": "code",
   "execution_count": null,
   "metadata": {
    "collapsed": false
   },
   "outputs": [],
   "source": [
    "states[\"Electors Per Seat\"] = states[\"Total Electors\"] / states[\"Seats\"]\n",
    "states.sort(\"Electors Per Seat\", ascending=False)"
   ]
  },
  {
   "cell_type": "markdown",
   "metadata": {},
   "source": [
    "# Reading the Results"
   ]
  },
  {
   "cell_type": "code",
   "execution_count": null,
   "metadata": {
    "collapsed": false
   },
   "outputs": [],
   "source": [
    "path = \"data/2014_indian_elections_results.csv\"\n",
    "results_data = pd.read_csv(path, sep=\"\\t\")\n",
    "results_data"
   ]
  },
  {
   "cell_type": "raw",
   "metadata": {},
   "source": [
    "Analyzing The results"
   ]
  },
  {
   "cell_type": "code",
   "execution_count": null,
   "metadata": {
    "collapsed": false
   },
   "outputs": [],
   "source": [
    "winners = results_data[results_data[\"Winner or Not?\"] == \"yes\"].sort(\"Name of State/ UT\")\n",
    "winners"
   ]
  },
  {
   "cell_type": "markdown",
   "metadata": {},
   "source": [
    "## Loading the results to the origianl Data Frame"
   ]
  },
  {
   "cell_type": "code",
   "execution_count": null,
   "metadata": {
    "collapsed": false
   },
   "outputs": [],
   "source": [
    "csv_data[\"Candidate Name\"] = winners[\"Candidate Name\"].values\n",
    "csv_data[\"Party Abbreviation\"] = winners[\"Party Abbreviation\"].values\n",
    "csv_data[\"Party Name\"] = winners[\"Party Name\"].values\n",
    "csv_data[\"Total Votes Polled\"] = winners[\"Total Votes Polled\"].values\n",
    "csv_data"
   ]
  },
  {
   "cell_type": "markdown",
   "metadata": {},
   "source": [
    "## Calculaing the winning margin"
   ]
  },
  {
   "cell_type": "code",
   "execution_count": null,
   "metadata": {
    "collapsed": false
   },
   "outputs": [],
   "source": [
    "csv_data[\"Winner Percentage\"] = csv_data[\"Total Votes Polled\"] / csv_data[\"Total Voters\"]\n",
    "csv_data.sort(\"Winner Percentage\", ascending=False)"
   ]
  },
  {
   "cell_type": "markdown",
   "metadata": {},
   "source": [
    "# Analyzing Winners By Party"
   ]
  },
  {
   "cell_type": "code",
   "execution_count": null,
   "metadata": {
    "collapsed": false
   },
   "outputs": [],
   "source": [
    "results = pd.DataFrame(csv_data[\"Party Abbreviation\"].value_counts(), columns=[\"Seats\"])\n",
    "results[\"Seats Percentage\"] = results[\"Seats\"] / len(winners)\n",
    "results"
   ]
  },
  {
   "cell_type": "code",
   "execution_count": null,
   "metadata": {
    "collapsed": false
   },
   "outputs": [],
   "source": [
    "all_votes = pd.pivot_table(results_data, values=\"Total Votes Polled\", rows=\"Party Abbreviation\", aggfunc=\"sum\")\n",
    "all_votes_average = pd.pivot_table(results_data, values=\"Total Votes Polled\", rows=\"Party Abbreviation\", aggfunc=\"mean\")"
   ]
  },
  {
   "cell_type": "code",
   "execution_count": null,
   "metadata": {
    "collapsed": false
   },
   "outputs": [],
   "source": [
    "get_total_votes = lambda x: all_votes[x]\n",
    "get_average_votes = lambda x: all_votes_average[x]\n",
    "\n",
    "results[\"Total Votes\"] = pd.Series(results.index.values).apply(get_total_votes).values\n",
    "results[\"Average Votes\"] = pd.Series(results.index.values).apply(get_average_votes).values\n",
    "results"
   ]
  },
  {
   "cell_type": "markdown",
   "metadata": {},
   "source": [
    "## Calculating votes that resulted in winning seats"
   ]
  },
  {
   "cell_type": "code",
   "execution_count": null,
   "metadata": {
    "collapsed": false
   },
   "outputs": [],
   "source": [
    "all_winning_votes = pd.pivot_table(csv_data, values=\"Total Votes Polled\", rows=\"Party Abbreviation\", aggfunc=\"sum\")\n",
    "all_winning_votes_average = pd.pivot_table(csv_data, values=\"Total Votes Polled\", rows=\"Party Abbreviation\", aggfunc=\"mean\")\n",
    "all_winning_votes_percentages = pd.pivot_table(csv_data, values=\"Winner Percentage\", rows=\"Party Abbreviation\", aggfunc=\"mean\")\n",
    "average_winning_elecors = pd.pivot_table(csv_data, values=\"Total Electors\", rows=\"Party Abbreviation\", aggfunc=\"mean\")"
   ]
  },
  {
   "cell_type": "code",
   "execution_count": null,
   "metadata": {
    "collapsed": false
   },
   "outputs": [],
   "source": [
    "get_total_winning_votes = lambda x: all_winning_votes[x]\n",
    "get_average_winning_votes = lambda x: all_winning_votes_average[x]\n",
    "get_average_winning_percentages = lambda x: all_winning_votes_percentages[x]\n",
    "get_average_winning_elecors = lambda x: average_winning_elecors[x]\n",
    "\n",
    "\n",
    "results[\"Total Winning Votes\"] = pd.Series(results.index.values).apply(get_total_winning_votes).values\n",
    "results[\"Average Winning Votes\"] = pd.Series(results.index.values).apply(get_average_winning_votes).values\n",
    "results[\"Average Winning Percentage\"] = pd.Series(results.index.values).apply(get_average_winning_percentages).values\n",
    "results[\"Average Winning Electors\"] = pd.Series(results.index.values).apply(get_average_winning_elecors).values\n",
    "\n",
    "results[\"Loosing Votes\"] = results[\"Total Votes\"] - results[\"Total Winning Votes\"]\n",
    "results[\"Winning Votes Ratio\"] = results[\"Total Winning Votes\"] / results[\"Total Votes\"]\n",
    "\n",
    "results"
   ]
  },
  {
   "cell_type": "markdown",
   "metadata": {},
   "source": [
    "## Statistical Analysis of Results"
   ]
  },
  {
   "cell_type": "code",
   "execution_count": null,
   "metadata": {
    "collapsed": false
   },
   "outputs": [],
   "source": [
    "results.describe()"
   ]
  },
  {
   "cell_type": "markdown",
   "metadata": {},
   "source": [
    "# Visualizing the results"
   ]
  },
  {
   "cell_type": "code",
   "execution_count": null,
   "metadata": {
    "collapsed": false
   },
   "outputs": [],
   "source": [
    "import matplotlib.pyplot as plt"
   ]
  },
  {
   "cell_type": "code",
   "execution_count": null,
   "metadata": {
    "collapsed": false
   },
   "outputs": [],
   "source": [
    "plt.figure(figsize=(18,8))\n",
    "cmap = plt.cm.hsv\n",
    "colors = cmap(np.linspace(0., 1., len(results[\"Seats\"])))\n",
    "plt.pie(results[\"Seats\"], labels=results.index, explode=np.array(range(len(results)))/10, autopct='%1.1f%%',\n",
    "        colors = colors)\n",
    "\n",
    "plt.axis(\"equal\")\n",
    "\n",
    "plt.title(\"Indian general election 2014 results of seats per party\")\n",
    "\n",
    "plt.show();"
   ]
  },
  {
   "cell_type": "code",
   "execution_count": null,
   "metadata": {
    "collapsed": false
   },
   "outputs": [],
   "source": [
    "plt.figure(figsize=(18,8))\n",
    "\n",
    "plt.pie(results.sort(\"Total Votes\", ascending=False)[\"Total Votes\"], labels=results.sort(\"Total Votes\", ascending=False).index,\n",
    "        explode=np.array(range(len(results)))**1.5/40, autopct='%1.1f%%', colors = colors)\n",
    "\n",
    "plt.axis(\"equal\")\n",
    "\n",
    "plt.title(\"Indian general election 2014 results of votes per party\")\n",
    "\n",
    "plt.show();"
   ]
  },
  {
   "cell_type": "code",
   "execution_count": null,
   "metadata": {
    "collapsed": false
   },
   "outputs": [],
   "source": [
    "plt.figure(figsize=(18,10))\n",
    "for counter in range(len(results)):\n",
    "    x = results[\"Total Votes\"][counter]\n",
    "    y = results[\"Seats\"][counter]\n",
    "    label = \"%s\\n%s\" % (results.index[counter], y)\n",
    "    plt.scatter(x,y, c = colors[counter],\n",
    "                s=y/x * 1e9, label =results.index[counter])\n",
    "    plt.annotate(label, \n",
    "        xy = (x, y), xytext = (-20, 20),\n",
    "        textcoords = 'offset points', ha = 'right', va = 'bottom',\n",
    "        bbox = dict(boxstyle = 'round,pad=0.5', fc = 'yellow', alpha = 0.5),\n",
    "        arrowprops = dict(arrowstyle = '->', connectionstyle = 'arc3,rad=0'))\n",
    "\n",
    "plt.xscale(\"log\")\n",
    "plt.yscale(\"log\")\n",
    "plt.xlim(results[\"Total Votes\"].min()*0.95, results[\"Total Votes\"].max()*1.05)\n",
    "plt.ylim(0)\n",
    "\n",
    "plt.xlabel(\"Total Votes (log)\")\n",
    "plt.ylabel(\"Seats (log)\")\n",
    "\n",
    "plt.title(\"Indian General Elections 2014 Seats vs Total Votes on a log scale\")\n",
    "\n",
    "plt.grid()\n",
    "\n",
    "plt.show();"
   ]
  },
  {
   "cell_type": "code",
   "execution_count": 1,
   "metadata": {
    "collapsed": false
   },
   "outputs": [
    {
     "ename": "NameError",
     "evalue": "name 'results' is not defined",
     "output_type": "error",
     "traceback": [
      "\u001b[1;31m---------------------------------------------------------------------------\u001b[0m",
      "\u001b[1;31mNameError\u001b[0m                                 Traceback (most recent call last)",
      "\u001b[1;32m<ipython-input-1-60edbf48a961>\u001b[0m in \u001b[0;36m<module>\u001b[1;34m()\u001b[0m\n\u001b[1;32m----> 1\u001b[1;33m \u001b[1;32mprint\u001b[0m \u001b[0mresults\u001b[0m\u001b[1;33m\u001b[0m\u001b[0m\n\u001b[0m",
      "\u001b[1;31mNameError\u001b[0m: name 'results' is not defined"
     ]
    }
   ],
   "source": [
    "print results"
   ]
  },
  {
   "cell_type": "code",
   "execution_count": null,
   "metadata": {
    "collapsed": false
   },
   "outputs": [],
   "source": []
  },
  {
   "cell_type": "code",
   "execution_count": null,
   "metadata": {
    "collapsed": true
   },
   "outputs": [],
   "source": []
  },
  {
   "cell_type": "code",
   "execution_count": null,
   "metadata": {
    "collapsed": true
   },
   "outputs": [],
   "source": []
  },
  {
   "cell_type": "code",
   "execution_count": null,
   "metadata": {
    "collapsed": true
   },
   "outputs": [],
   "source": []
  },
  {
   "cell_type": "code",
   "execution_count": null,
   "metadata": {
    "collapsed": true
   },
   "outputs": [],
   "source": []
  },
  {
   "cell_type": "code",
   "execution_count": null,
   "metadata": {
    "collapsed": true
   },
   "outputs": [],
   "source": []
  },
  {
   "cell_type": "code",
   "execution_count": null,
   "metadata": {
    "collapsed": true
   },
   "outputs": [],
   "source": []
  },
  {
   "cell_type": "code",
   "execution_count": null,
   "metadata": {
    "collapsed": true
   },
   "outputs": [],
   "source": []
  }
 ],
 "metadata": {
  "kernelspec": {
   "display_name": "Python 2",
   "language": "python",
   "name": "python2"
  },
  "language_info": {
   "codemirror_mode": {
    "name": "ipython",
    "version": 2
   },
   "file_extension": ".py",
   "mimetype": "text/x-python",
   "name": "python",
   "nbconvert_exporter": "python",
   "pygments_lexer": "ipython2",
   "version": "2.7.6"
  }
 },
 "nbformat": 4,
 "nbformat_minor": 0
}
