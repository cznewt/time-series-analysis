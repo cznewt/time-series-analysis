{
 "cells": [
  {
   "cell_type": "markdown",
   "metadata": {
    "collapsed": true
   },
   "source": [
    "### General articles\n",
    "\n",
    "* [IBM: TOSCA’s Simple Profile poised to take Cloud Orchestration to the next level](https://developer.ibm.com/opentech/2015/04/09/tosca-simple-profile-next-level/)\n",
    "\n",
    "\n",
    "### Modeling tools\n",
    "\n",
    "* [Github: c-Eclipse related components](https://github.com/CELAR/c-Eclipse)\n",
    "\n",
    "\n",
    "### Orchestration integrations\n",
    "\n",
    "* https://docs.docker.com/compose/gettingstarted/\n",
    "* [Github: Juju Tosca Translator](https://github.com/juju/juju-tosca)\n",
    "* [Cloudify: Simple TOSCA Orchestration for Docker](http://getcloudify.org/2015/06/19/docker-tosca-cloud-orchestration-openstack-heat-kubernetes.html)"
   ]
  },
  {
   "cell_type": "code",
   "execution_count": 35,
   "metadata": {
    "collapsed": false
   },
   "outputs": [
    {
     "name": "stdout",
     "output_type": "stream",
     "text": [
      "\n",
      "version: tosca_simple_yaml_1_0\n",
      "\n",
      "nodetemplates:\n",
      "\tpostgresql_database\n",
      "\tleonardo_application\n"
     ]
    }
   ],
   "source": [
    "from toscaparser.tosca_template import ToscaTemplate\n",
    "\n",
    "tosca_file = \"/srv/jupyter/notebook/tosca_model/csar/templates/leonardo_aio.yaml\"\n",
    "\n",
    "tosca_model = ToscaTemplate(tosca_file, None, True)\n",
    "\n",
    "version = tosca_model.version\n",
    "if tosca_model.version:\n",
    "    print (\"\\nversion: \" + version)\n",
    "\n",
    "if hasattr(tosca_model, 'description'):\n",
    "    description = tosca_model.description\n",
    "    if description:\n",
    "        print (\"\\ndescription: \" + description)\n",
    "\n",
    "if hasattr(tosca_model, 'inputs'):\n",
    "    inputs = tosca_model.inputs\n",
    "    if inputs:\n",
    "        print (\"\\ninputs:\")\n",
    "        for input in inputs:\n",
    "            print (\"\\t\" + input.name)\n",
    "\n",
    "if hasattr(tosca_model, 'custom_defs'):\n",
    "    custom_defs = tosca_model.custom_defs\n",
    "    if relationship_types:\n",
    "        print (\"\\ncustom_defs:\")\n",
    "        for node in custom_defs:\n",
    "            print (\"\\t\" + node.name)\n",
    "\n",
    "if hasattr(tosca_model, 'nodetemplates'):\n",
    "    nodetemplates = tosca_model.nodetemplates\n",
    "    if nodetemplates:\n",
    "        print (\"\\nnodetemplates:\")\n",
    "        for node in nodetemplates:\n",
    "            print (\"\\t\" + node.name)\n",
    "\n",
    "if hasattr(tosca_model, 'outputs'):\n",
    "    outputs = tosca_model.outputs\n",
    "    if outputs:\n",
    "        print (\"\\noutputs:\")\n",
    "        for output in outputs:\n",
    "            print (\"\\t\" + output.name)"
   ]
  },
  {
   "cell_type": "code",
   "execution_count": null,
   "metadata": {
    "collapsed": true
   },
   "outputs": [],
   "source": []
  }
 ],
 "metadata": {
  "kernelspec": {
   "display_name": "Python 2",
   "language": "python",
   "name": "python2"
  },
  "language_info": {
   "codemirror_mode": {
    "name": "ipython",
    "version": 2
   },
   "file_extension": ".py",
   "mimetype": "text/x-python",
   "name": "python",
   "nbconvert_exporter": "python",
   "pygments_lexer": "ipython2",
   "version": "2.7.6"
  }
 },
 "nbformat": 4,
 "nbformat_minor": 0
}
