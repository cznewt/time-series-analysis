{
 "cells": [
  {
   "cell_type": "code",
   "execution_count": 33,
   "metadata": {
    "collapsed": false
   },
   "outputs": [
    {
     "name": "stdout",
     "output_type": "stream",
     "text": [
      "\n",
      "Version: tosca_simple_yaml_1_0\n",
      "\n",
      "Description: This TOSCA simple profile deploys nodejs, mongodb, elasticsearch, logstash and kibana each on a separate server with monitoring enabled for nodejs server where a sample nodejs application is running. The rsyslog and collectd are installed on a nodejs server.\n",
      "\n",
      "Inputs:\n",
      "\tgithub_url\n",
      "\tmy_cpus\n",
      "\n",
      "Node templates:\n",
      "\ttosca.nodes.Database \"mongo_db\"\n",
      "\ttosca.nodes.SoftwareComponent.Collectd \"app_collectd\"\n",
      "\ttosca.nodes.Compute \"logstash_server\"\n",
      "\ttosca.nodes.WebServer \"nodejs\"\n",
      "\ttosca.nodes.Compute \"kibana_server\"\n",
      "\ttosca.nodes.WebApplication.PayPalPizzaStore \"paypal_pizzastore\"\n",
      "\ttosca.nodes.SoftwareComponent.Kibana \"kibana\"\n",
      "\ttosca.nodes.Compute \"elasticsearch_server\"\n",
      "\ttosca.nodes.Compute \"mongo_server\"\n",
      "\ttosca.nodes.SoftwareComponent.Elasticsearch \"elasticsearch\"\n",
      "\ttosca.nodes.SoftwareComponent.Rsyslog \"app_rsyslog\"\n",
      "\ttosca.nodes.DBMS \"mongo_dbms\"\n",
      "\ttosca.nodes.SoftwareComponent.Logstash \"logstash\"\n",
      "\ttosca.nodes.Compute \"app_server\"\n",
      "\n",
      "Outputs:\n",
      "\tkibana_url\n",
      "\tmongodb_url\n",
      "\tnodejs_url\n",
      "\telasticsearch_url\n",
      "\tlogstash_url\n"
     ]
    }
   ],
   "source": [
    "from toscaparser.tosca_template import ToscaTemplate\n",
    "\n",
    "#tosca_file = \"/srv/jupyter/notebook/tosca_model/csar_elk/mongo-elk.yaml\"\n",
    "tosca_file = \"/srv/jupyter/notebook/tosca_model/tosca_elk/Definitions/tosca_elk.yaml\"\n",
    "#tosca_file = \"/srv/jupyter/notebook/tosca_model/csar_leonardo/templates/leonardo_aio.yaml\"\n",
    "\n",
    "tosca_model = ToscaTemplate(tosca_file, None, True)\n",
    "\n",
    "version = tosca_model.version\n",
    "if tosca_model.version:\n",
    "    print (\"\\nVersion: \" + version)\n",
    "\n",
    "if hasattr(tosca_model, 'description'):\n",
    "    description = tosca_model.description\n",
    "    if description:\n",
    "        print (\"\\nDescription: \" + description)\n",
    "\n",
    "if hasattr(tosca_model, 'inputs'):\n",
    "    inputs = tosca_model.inputs\n",
    "    if inputs:\n",
    "        print (\"\\nInputs:\")\n",
    "        for input in inputs:\n",
    "            print (\"\\t\" + input.name)\n",
    "\n",
    "if hasattr(tosca_model, 'nodetemplates'):\n",
    "    nodetemplates = tosca_model.nodetemplates\n",
    "    if nodetemplates:\n",
    "        print (\"\\nNode templates:\")\n",
    "        for node in nodetemplates:\n",
    "            print (\"\\t\" + node.type_definition.ntype + ' \"' + node.name + '\"')\n",
    "\n",
    "if hasattr(tosca_model, 'outputs'):\n",
    "    outputs = tosca_model.outputs\n",
    "    if outputs:\n",
    "        print (\"\\nOutputs:\")\n",
    "        for output in outputs:\n",
    "            print (\"\\t\" + output.name)\n"
   ]
  },
  {
   "cell_type": "code",
   "execution_count": 34,
   "metadata": {
    "collapsed": false
   },
   "outputs": [
    {
     "name": "stdout",
     "output_type": "stream",
     "text": [
      "Graph model nodes:\n"
     ]
    },
    {
     "data": {
      "text/plain": [
       "[<toscaparser.nodetemplate.NodeTemplate at 0x7f9a30bf9e50>,\n",
       " <toscaparser.nodetemplate.NodeTemplate at 0x7f9a38026ed0>,\n",
       " <toscaparser.nodetemplate.NodeTemplate at 0x7f9a30bf9e90>,\n",
       " <toscaparser.nodetemplate.NodeTemplate at 0x7f9a30bf9390>,\n",
       " <toscaparser.nodetemplate.NodeTemplate at 0x7f9a30bf9790>,\n",
       " <toscaparser.nodetemplate.NodeTemplate at 0x7f9a30bf9e10>,\n",
       " <toscaparser.nodetemplate.NodeTemplate at 0x7f9a30bf9a10>,\n",
       " <toscaparser.nodetemplate.NodeTemplate at 0x7f9a30bf9050>,\n",
       " <toscaparser.nodetemplate.NodeTemplate at 0x7f9a30bf9a50>,\n",
       " <toscaparser.nodetemplate.NodeTemplate at 0x7f9a30bf9ed0>,\n",
       " <toscaparser.nodetemplate.NodeTemplate at 0x7f9a30bf9150>,\n",
       " <toscaparser.nodetemplate.NodeTemplate at 0x7f9a30bf95d0>,\n",
       " <toscaparser.nodetemplate.NodeTemplate at 0x7f9a30bf9b10>,\n",
       " <toscaparser.nodetemplate.NodeTemplate at 0x7f9a30c0c8d0>]"
      ]
     },
     "execution_count": 34,
     "metadata": {},
     "output_type": "execute_result"
    }
   ],
   "source": [
    "print (\"Graph model nodes:\")\n",
    "tosca_model.graph.nodetemplates"
   ]
  },
  {
   "cell_type": "code",
   "execution_count": 35,
   "metadata": {
    "collapsed": false
   },
   "outputs": [
    {
     "name": "stdout",
     "output_type": "stream",
     "text": [
      "Graph vertices:\n",
      "\n",
      "tosca.nodes.Database \"mongo_db\"\n",
      "\tmongo_dbms\n",
      "\n",
      "tosca.nodes.SoftwareComponent.Collectd \"app_collectd\"\n",
      "\tlogstash\n",
      "\tapp_server\n",
      "\n",
      "tosca.nodes.Compute \"logstash_server\"\n",
      "\n",
      "tosca.nodes.WebServer \"nodejs\"\n",
      "\tapp_server\n",
      "\n",
      "tosca.nodes.Compute \"kibana_server\"\n",
      "\n",
      "tosca.nodes.WebApplication.PayPalPizzaStore \"paypal_pizzastore\"\n",
      "\tnodejs\n",
      "\tmongo_db\n",
      "\n",
      "tosca.nodes.SoftwareComponent.Kibana \"kibana\"\n",
      "\tkibana_server\n",
      "\telasticsearch\n",
      "\n",
      "tosca.nodes.Compute \"elasticsearch_server\"\n",
      "\n",
      "tosca.nodes.Compute \"mongo_server\"\n",
      "\n",
      "tosca.nodes.SoftwareComponent.Elasticsearch \"elasticsearch\"\n",
      "\telasticsearch_server\n",
      "\n",
      "tosca.nodes.SoftwareComponent.Rsyslog \"app_rsyslog\"\n",
      "\tlogstash\n",
      "\tapp_server\n",
      "\n",
      "tosca.nodes.DBMS \"mongo_dbms\"\n",
      "\tmongo_server\n",
      "\n",
      "tosca.nodes.SoftwareComponent.Logstash \"logstash\"\n",
      "\tlogstash_server\n",
      "\telasticsearch\n",
      "\n",
      "tosca.nodes.Compute \"app_server\"\n"
     ]
    }
   ],
   "source": [
    "print (\"Graph vertices:\")\n",
    "for vertex_name, vertex in tosca_model.graph.vertices.iteritems():\n",
    "    print \"\\n\" + vertex.type_definition.ntype + ' \"' + vertex.name + '\"'\n",
    "    nodes = vertex.related\n",
    "    for node_name, node in nodes.iteritems():\n",
    "        print \"\\t\" + node_name.name"
   ]
  },
  {
   "cell_type": "code",
   "execution_count": 39,
   "metadata": {
    "collapsed": false
   },
   "outputs": [
    {
     "ename": "ImportError",
     "evalue": "No module named jsnx",
     "output_type": "error",
     "traceback": [
      "\u001b[1;31m---------------------------------------------------------------------------\u001b[0m",
      "\u001b[1;31mImportError\u001b[0m                               Traceback (most recent call last)",
      "\u001b[1;32m<ipython-input-39-b2b0ca31222a>\u001b[0m in \u001b[0;36m<module>\u001b[1;34m()\u001b[0m\n\u001b[0;32m      1\u001b[0m \u001b[1;32mimport\u001b[0m \u001b[0mnetworkx\u001b[0m \u001b[1;32mas\u001b[0m \u001b[0mnx\u001b[0m\u001b[1;33m\u001b[0m\u001b[0m\n\u001b[1;32m----> 2\u001b[1;33m \u001b[1;32mimport\u001b[0m \u001b[0mjsnx\u001b[0m\u001b[1;33m\u001b[0m\u001b[0m\n\u001b[0m\u001b[0;32m      3\u001b[0m \u001b[1;33m\u001b[0m\u001b[0m\n\u001b[0;32m      4\u001b[0m \u001b[0mG\u001b[0m\u001b[1;33m=\u001b[0m\u001b[0mnx\u001b[0m\u001b[1;33m.\u001b[0m\u001b[0mGraph\u001b[0m\u001b[1;33m(\u001b[0m\u001b[1;33m)\u001b[0m\u001b[1;33m\u001b[0m\u001b[0m\n\u001b[0;32m      5\u001b[0m \u001b[1;33m\u001b[0m\u001b[0m\n",
      "\u001b[1;31mImportError\u001b[0m: No module named jsnx"
     ]
    }
   ],
   "source": [
    "import networkx as nx\n",
    "import graphistry\n",
    "\n",
    "tosca_graph=nx.Graph()\n",
    "\n",
    "for vertex_name, vertex in tosca_model.graph.vertices.iteritems():\n",
    "    tosca_graph.add_node(vertex.name)\n",
    "\n",
    "for vertex_name, vertex in tosca_model.graph.vertices.iteritems():\n",
    "    nodes = vertex.related\n",
    "    for node, relationship in nodes.iteritems():\n",
    "        tosca_graph.add_edge(vertex.name,node.name)\n",
    "\n",
    "print \"\\nGraph nodes:\"\n",
    "print tosca_graph.nodes()\n",
    "\n",
    "print \"\\nGraph edges:\"\n",
    "print tosca_graph.edges()\n",
    "\n",
    "\n"
   ]
  },
  {
   "cell_type": "code",
   "execution_count": null,
   "metadata": {
    "collapsed": true
   },
   "outputs": [],
   "source": []
  }
 ],
 "metadata": {
  "kernelspec": {
   "display_name": "Python 2",
   "language": "python",
   "name": "python2"
  },
  "language_info": {
   "codemirror_mode": {
    "name": "ipython",
    "version": 2
   },
   "file_extension": ".py",
   "mimetype": "text/x-python",
   "name": "python",
   "nbconvert_exporter": "python",
   "pygments_lexer": "ipython2",
   "version": "2.7.6"
  }
 },
 "nbformat": 4,
 "nbformat_minor": 0
}
