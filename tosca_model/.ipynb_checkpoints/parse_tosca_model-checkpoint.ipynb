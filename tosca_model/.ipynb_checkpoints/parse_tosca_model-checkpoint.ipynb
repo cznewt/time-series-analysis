{
 "cells": [
  {
   "cell_type": "markdown",
   "metadata": {
    "collapsed": true
   },
   "source": [
    "TOSCA is an OASIS open standard that defines the interoperable description of services and applications hosted on the cloud and elsewhere; including their components, relationships, dependencies, requirements, and capabilities, thereby enabling portability and automated management across cloud providers regardless of underlying platform or infrastructure; thus expanding customer choice, improving reliability, and reducing cost and time-to-value. These characteristics also facilitate the portable, continuous delivery of applications (DevOps) across their entire lifecycle. In short, they empower a much higher level of agility and accuracy for business in the cloud.\n",
    "\n",
    "TOSCA enables business to capture and automate the use of expert knowledge so that service and application requirements could be automatically matched to corresponding cloud service provider capabilities, thus enabling a truly competitive ecosystem where cloud platform and service providers can leap beyond commoditization in order to compete, innovate, and better serve the accelerating needs of cloud-based businesses.\n",
    "\n",
    "### General articles\n",
    "\n",
    "* [OASIS: TOSCA FAQ](https://www.oasis-open.org/committees/tosca/faq.php)\n",
    "* [IBM: TOSCA’s Simple Profile poised to take Cloud Orchestration to the next level](https://developer.ibm.com/opentech/2015/04/09/tosca-simple-profile-next-level/)\n",
    "* [Cloudify: Simple TOSCA Orchestration for Docker](http://getcloudify.org/2015/06/19/docker-tosca-cloud-orchestration-openstack-heat-kubernetes.html)\n",
    "* [Ubuntu: Delivering Cloud Storage using Ubuntu](http://insights.ubuntu.com/2016/03/14/delivering-cloud-storage-using-ubuntu/)\n",
    "* [Cloudify: TOSCA and YANG for Application and Network Orchestration](http://getcloudify.org/2015/01/07/VNF-network-function-virtualization-netconf-yang-NFV.html#)\n",
    "\n",
    "### Modeling tools\n",
    "\n",
    "* [Github: c-Eclipse related components](https://github.com/CELAR/c-Eclipse)\n",
    "\n",
    "### Orchestration integrations\n",
    "\n",
    "* https://docs.docker.com/compose/gettingstarted/\n",
    "* [Github: Juju Tosca Translator](https://github.com/juju/juju-tosca)\n",
    "* [Cloudify: Simple TOSCA Orchestration for Docker](http://getcloudify.org/2015/06/19/docker-tosca-cloud-orchestration-openstack-heat-kubernetes.html)\n",
    "\n",
    "### Output examples\n",
    "\n",
    "* [Kubernetes examples](https://github.com/kubernetes/kubernetes/tree/master/examples/)\n"
   ]
  },
  {
   "cell_type": "code",
   "execution_count": 1,
   "metadata": {
    "collapsed": false
   },
   "outputs": [
    {
     "name": "stdout",
     "output_type": "stream",
     "text": [
      "\n",
      "Version: tosca_simple_yaml_1_0\n",
      "\n",
      "Description: This TOSCA simple profile deploys nodejs, mongodb, elasticsearch, logstash and kibana each on a separate server with monitoring enabled for nodejs server where a sample nodejs application is running. The rsyslog and collectd are installed on a nodejs server.\n",
      "\n",
      "Inputs:\n",
      "\tgithub_url\n",
      "\tmy_cpus\n",
      "\n",
      "Node templates:\n",
      "\ttosca.nodes.Database mongo_db\n",
      "\ttosca.nodes.SoftwareComponent.Collectd app_collectd\n",
      "\ttosca.nodes.Compute logstash_server\n",
      "\ttosca.nodes.WebServer nodejs\n",
      "\ttosca.nodes.Compute kibana_server\n",
      "\ttosca.nodes.WebApplication.PayPalPizzaStore paypal_pizzastore\n",
      "\ttosca.nodes.SoftwareComponent.Kibana kibana\n",
      "\ttosca.nodes.Compute elasticsearch_server\n",
      "\ttosca.nodes.Compute mongo_server\n",
      "\ttosca.nodes.SoftwareComponent.Elasticsearch elasticsearch\n",
      "\ttosca.nodes.SoftwareComponent.Rsyslog app_rsyslog\n",
      "\ttosca.nodes.DBMS mongo_dbms\n",
      "\ttosca.nodes.SoftwareComponent.Logstash logstash\n",
      "\ttosca.nodes.Compute app_server\n",
      "\n",
      "Outputs:\n",
      "\tkibana_url\n",
      "\tmongodb_url\n",
      "\tnodejs_url\n",
      "\telasticsearch_url\n",
      "\tlogstash_url\n"
     ]
    }
   ],
   "source": [
    "from toscaparser.tosca_template import ToscaTemplate\n",
    "\n",
    "#tosca_file = \"/srv/jupyter/notebook/tosca_model/csar_elk/mongo-elk.yaml\"\n",
    "tosca_file = \"/srv/jupyter/notebook/tosca_model/tosca_elk/Definitions/tosca_elk.yaml\"\n",
    "\n",
    "\n",
    "#tosca_file = \"/srv/jupyter/notebook/tosca_model/csar_leonardo/templates/leonardo_aio.yaml\"\n",
    "\n",
    "tosca_model = ToscaTemplate(tosca_file, None, True)\n",
    "\n",
    "version = tosca_model.version\n",
    "if tosca_model.version:\n",
    "    print (\"\\nVersion: \" + version)\n",
    "\n",
    "if hasattr(tosca_model, 'description'):\n",
    "    description = tosca_model.description\n",
    "    if description:\n",
    "        print (\"\\nDescription: \" + description)\n",
    "\n",
    "if hasattr(tosca_model, 'inputs'):\n",
    "    inputs = tosca_model.inputs\n",
    "    if inputs:\n",
    "        print (\"\\nInputs:\")\n",
    "        for input in inputs:\n",
    "            print (\"\\t\" + input.name)\n",
    "\n",
    "if hasattr(tosca_model, 'nodetemplates'):\n",
    "    nodetemplates = tosca_model.nodetemplates\n",
    "    if nodetemplates:\n",
    "        print (\"\\nNode templates:\")\n",
    "        for node in nodetemplates:\n",
    "            print (\"\\t\" + node.type_definition.ntype + ' ' + node.name)\n",
    "\n",
    "if hasattr(tosca_model, 'outputs'):\n",
    "    outputs = tosca_model.outputs\n",
    "    if outputs:\n",
    "        print (\"\\nOutputs:\")\n",
    "        for output in outputs:\n",
    "            print (\"\\t\" + output.name)\n",
    "\n"
   ]
  },
  {
   "cell_type": "code",
   "execution_count": null,
   "metadata": {
    "collapsed": true
   },
   "outputs": [],
   "source": []
  }
 ],
 "metadata": {
  "kernelspec": {
   "display_name": "Python 2",
   "language": "python",
   "name": "python2"
  },
  "language_info": {
   "codemirror_mode": {
    "name": "ipython",
    "version": 2
   },
   "file_extension": ".py",
   "mimetype": "text/x-python",
   "name": "python",
   "nbconvert_exporter": "python",
   "pygments_lexer": "ipython2",
   "version": "2.7.6"
  }
 },
 "nbformat": 4,
 "nbformat_minor": 0
}
