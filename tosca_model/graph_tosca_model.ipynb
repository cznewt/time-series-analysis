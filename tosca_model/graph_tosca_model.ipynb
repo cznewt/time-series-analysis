{
 "cells": [
  {
   "cell_type": "code",
   "execution_count": 1,
   "metadata": {
    "collapsed": false
   },
   "outputs": [
    {
     "name": "stdout",
     "output_type": "stream",
     "text": [
      "\n",
      "Version: tosca_simple_yaml_1_0\n",
      "\n",
      "Description: This TOSCA simple profile deploys nodejs, mongodb, elasticsearch, logstash and kibana each on a separate server with monitoring enabled for nodejs server where a sample nodejs application is running. The rsyslog and collectd are installed on a nodejs server.\n",
      "\n",
      "Inputs:\n",
      "\tgithub_url\n",
      "\tmy_cpus\n",
      "\n",
      "Node templates:\n",
      "\ttosca.nodes.Database \"mongo_db\"\n",
      "\ttosca.nodes.SoftwareComponent.Collectd \"app_collectd\"\n",
      "\ttosca.nodes.Compute \"logstash_server\"\n",
      "\ttosca.nodes.WebServer \"nodejs\"\n",
      "\ttosca.nodes.Compute \"kibana_server\"\n",
      "\ttosca.nodes.WebApplication.PayPalPizzaStore \"paypal_pizzastore\"\n",
      "\ttosca.nodes.SoftwareComponent.Kibana \"kibana\"\n",
      "\ttosca.nodes.Compute \"elasticsearch_server\"\n",
      "\ttosca.nodes.Compute \"mongo_server\"\n",
      "\ttosca.nodes.SoftwareComponent.Elasticsearch \"elasticsearch\"\n",
      "\ttosca.nodes.SoftwareComponent.Rsyslog \"app_rsyslog\"\n",
      "\ttosca.nodes.DBMS \"mongo_dbms\"\n",
      "\ttosca.nodes.SoftwareComponent.Logstash \"logstash\"\n",
      "\ttosca.nodes.Compute \"app_server\"\n",
      "\n",
      "Outputs:\n",
      "\tkibana_url\n",
      "\tmongodb_url\n",
      "\tnodejs_url\n",
      "\telasticsearch_url\n",
      "\tlogstash_url\n"
     ]
    }
   ],
   "source": [
    "from toscaparser.tosca_template import ToscaTemplate\n",
    "\n",
    "#tosca_file = \"/srv/jupyter/notebook/tosca_model/csar_elk/mongo-elk.yaml\"\n",
    "tosca_file = \"/srv/jupyter/notebook/tosca_model/tosca_elk/Definitions/tosca_elk.yaml\"\n",
    "#tosca_file = \"/srv/jupyter/notebook/tosca_model/csar_leonardo/templates/leonardo_aio.yaml\"\n",
    "\n",
    "tosca_model = ToscaTemplate(tosca_file, None, True)\n",
    "\n",
    "version = tosca_model.version\n",
    "if tosca_model.version:\n",
    "    print (\"\\nVersion: \" + version)\n",
    "\n",
    "if hasattr(tosca_model, 'description'):\n",
    "    description = tosca_model.description\n",
    "    if description:\n",
    "        print (\"\\nDescription: \" + description)\n",
    "\n",
    "if hasattr(tosca_model, 'inputs'):\n",
    "    inputs = tosca_model.inputs\n",
    "    if inputs:\n",
    "        print (\"\\nInputs:\")\n",
    "        for input in inputs:\n",
    "            print (\"\\t\" + input.name)\n",
    "\n",
    "if hasattr(tosca_model, 'nodetemplates'):\n",
    "    nodetemplates = tosca_model.nodetemplates\n",
    "    if nodetemplates:\n",
    "        print (\"\\nNode templates:\")\n",
    "        for node in nodetemplates:\n",
    "            print (\"\\t\" + node.type_definition.ntype + ' \"' + node.name + '\"')\n",
    "\n",
    "if hasattr(tosca_model, 'outputs'):\n",
    "    outputs = tosca_model.outputs\n",
    "    if outputs:\n",
    "        print (\"\\nOutputs:\")\n",
    "        for output in outputs:\n",
    "            print (\"\\t\" + output.name)\n"
   ]
  },
  {
   "cell_type": "code",
   "execution_count": 2,
   "metadata": {
    "collapsed": false
   },
   "outputs": [
    {
     "name": "stdout",
     "output_type": "stream",
     "text": [
      "Graph model nodes:\n"
     ]
    },
    {
     "data": {
      "text/plain": [
       "[<toscaparser.nodetemplate.NodeTemplate at 0x7f854fe25810>,\n",
       " <toscaparser.nodetemplate.NodeTemplate at 0x7f854fe253d0>,\n",
       " <toscaparser.nodetemplate.NodeTemplate at 0x7f854fe25e50>,\n",
       " <toscaparser.nodetemplate.NodeTemplate at 0x7f854eaf7850>,\n",
       " <toscaparser.nodetemplate.NodeTemplate at 0x7f854fe25190>,\n",
       " <toscaparser.nodetemplate.NodeTemplate at 0x7f854fe25850>,\n",
       " <toscaparser.nodetemplate.NodeTemplate at 0x7f854fe25090>,\n",
       " <toscaparser.nodetemplate.NodeTemplate at 0x7f854fe25350>,\n",
       " <toscaparser.nodetemplate.NodeTemplate at 0x7f854fe25910>,\n",
       " <toscaparser.nodetemplate.NodeTemplate at 0x7f854fe25050>,\n",
       " <toscaparser.nodetemplate.NodeTemplate at 0x7f854fe25a90>,\n",
       " <toscaparser.nodetemplate.NodeTemplate at 0x7f854fe25990>,\n",
       " <toscaparser.nodetemplate.NodeTemplate at 0x7f854fe16bd0>,\n",
       " <toscaparser.nodetemplate.NodeTemplate at 0x7f854fe16090>]"
      ]
     },
     "execution_count": 2,
     "metadata": {},
     "output_type": "execute_result"
    }
   ],
   "source": [
    "print (\"Graph model nodes:\")\n",
    "tosca_model.graph.nodetemplates"
   ]
  },
  {
   "cell_type": "code",
   "execution_count": 3,
   "metadata": {
    "collapsed": false
   },
   "outputs": [
    {
     "name": "stdout",
     "output_type": "stream",
     "text": [
      "Graph vertices:\n",
      "\n",
      "tosca.nodes.Database \"mongo_db\"\n",
      "\tmongo_dbms\n",
      "\n",
      "tosca.nodes.SoftwareComponent.Collectd \"app_collectd\"\n",
      "\tapp_server\n",
      "\tlogstash\n",
      "\n",
      "tosca.nodes.Compute \"logstash_server\"\n",
      "\n",
      "tosca.nodes.WebServer \"nodejs\"\n",
      "\tapp_server\n",
      "\n",
      "tosca.nodes.Compute \"kibana_server\"\n",
      "\n",
      "tosca.nodes.WebApplication.PayPalPizzaStore \"paypal_pizzastore\"\n",
      "\tmongo_db\n",
      "\tnodejs\n",
      "\n",
      "tosca.nodes.SoftwareComponent.Kibana \"kibana\"\n",
      "\tkibana_server\n",
      "\telasticsearch\n",
      "\n",
      "tosca.nodes.Compute \"elasticsearch_server\"\n",
      "\n",
      "tosca.nodes.Compute \"mongo_server\"\n",
      "\n",
      "tosca.nodes.SoftwareComponent.Elasticsearch \"elasticsearch\"\n",
      "\telasticsearch_server\n",
      "\n",
      "tosca.nodes.SoftwareComponent.Rsyslog \"app_rsyslog\"\n",
      "\tapp_server\n",
      "\tlogstash\n",
      "\n",
      "tosca.nodes.DBMS \"mongo_dbms\"\n",
      "\tmongo_server\n",
      "\n",
      "tosca.nodes.SoftwareComponent.Logstash \"logstash\"\n",
      "\tlogstash_server\n",
      "\telasticsearch\n",
      "\n",
      "tosca.nodes.Compute \"app_server\"\n"
     ]
    }
   ],
   "source": [
    "print (\"Graph vertices:\")\n",
    "for vertex_name, vertex in tosca_model.graph.vertices.iteritems():\n",
    "    print \"\\n\" + vertex.type_definition.ntype + ' \"' + vertex.name + '\"'\n",
    "    nodes = vertex.related\n",
    "    for node_name, node in nodes.iteritems():\n",
    "        print \"\\t\" + node_name.name"
   ]
  },
  {
   "cell_type": "code",
   "execution_count": 4,
   "metadata": {
    "collapsed": false
   },
   "outputs": [
    {
     "name": "stdout",
     "output_type": "stream",
     "text": [
      "\n",
      "Graph nodes:\n",
      "['mongo_db', 'app_collectd', 'logstash_server', 'nodejs', 'kibana_server', 'paypal_pizzastore', 'kibana', 'elasticsearch_server', 'mongo_server', 'elasticsearch', 'app_rsyslog', 'mongo_dbms', 'logstash', 'app_server']\n",
      "\n",
      "Graph edges:\n",
      "[('mongo_db', 'mongo_dbms'), ('mongo_db', 'paypal_pizzastore'), ('app_collectd', 'logstash'), ('app_collectd', 'app_server'), ('logstash_server', 'logstash'), ('nodejs', 'paypal_pizzastore'), ('nodejs', 'app_server'), ('kibana_server', 'kibana'), ('kibana', 'elasticsearch'), ('elasticsearch_server', 'elasticsearch'), ('mongo_server', 'mongo_dbms'), ('elasticsearch', 'logstash'), ('app_rsyslog', 'logstash'), ('app_rsyslog', 'app_server')]\n"
     ]
    }
   ],
   "source": [
    "import networkx as nx\n",
    "import graphistry\n",
    "\n",
    "tosca_graph=nx.Graph()\n",
    "\n",
    "for vertex_name, vertex in tosca_model.graph.vertices.iteritems():\n",
    "    tosca_graph.add_node(vertex.name)\n",
    "\n",
    "for vertex_name, vertex in tosca_model.graph.vertices.iteritems():\n",
    "    nodes = vertex.related\n",
    "    for node, relationship in nodes.iteritems():\n",
    "        tosca_graph.add_edge(vertex.name,node.name)\n",
    "\n",
    "print \"\\nGraph nodes:\"\n",
    "print tosca_graph.nodes()\n",
    "\n",
    "print \"\\nGraph edges:\"\n",
    "print tosca_graph.edges()\n"
   ]
  },
  {
   "cell_type": "code",
   "execution_count": 5,
   "metadata": {
    "collapsed": false
   },
   "outputs": [],
   "source": [
    "import matplotlib.pyplot as plt\n",
    "%matplotlib inline"
   ]
  },
  {
   "cell_type": "code",
   "execution_count": 6,
   "metadata": {
    "collapsed": false
   },
   "outputs": [
    {
     "data": {
      "image/png": "[encoded data removed]",
      "text/plain": [
       "<matplotlib.figure.Figure at 0x7f8523cb5290>"
      ]
     },
     "metadata": {},
     "output_type": "display_data"
    }
   ],
   "source": [
    "plt.figure(figsize=(6,4));\n",
    "nx.draw(tosca_graph)"
   ]
  },
  {
   "cell_type": "code",
   "execution_count": 7,
   "metadata": {
    "collapsed": false
   },
   "outputs": [],
   "source": [
    "from networkx.readwrite import json_graph\n",
    "import json\n",
    "\n",
    "data = json_graph.node_link_data(tosca_graph)\n",
    "with open('graph.json', 'w') as f:\n",
    "    json.dump(data, f, indent=4)"
   ]
  },
  {
   "cell_type": "code",
   "execution_count": 8,
   "metadata": {
    "collapsed": false
   },
   "outputs": [
    {
     "data": {
      "text/html": [
       "<div id=\"d3-tosca-model\"></div>\n",
       "<style>\n",
       ".node {stroke: #fff; stroke-width: 1.5px;}\n",
       ".link {stroke: #999; stroke-opacity: .6;}\n",
       "</style>"
      ],
      "text/plain": [
       "<IPython.core.display.HTML object>"
      ]
     },
     "metadata": {},
     "output_type": "display_data"
    }
   ],
   "source": [
    "%%html\n",
    "<div id=\"d3-tosca-model\"></div>\n",
    "<style>\n",
    ".node {stroke: #fff; stroke-width: 1.5px;}\n",
    ".link {stroke: #999; stroke-opacity: .6;}\n",
    "</style>"
   ]
  },
  {
   "cell_type": "code",
   "execution_count": 9,
   "metadata": {
    "collapsed": false
   },
   "outputs": [
    {
     "data": {
      "application/javascript": [
       "// We load the d3.js library from the Web.\n",
       "require.config({paths: {d3: \"http://d3js.org/d3.v3.min\"}});\n",
       "require([\"d3\"], function(d3) {\n",
       "    // The code in this block is executed when the \n",
       "    // d3.js library has been loaded.\n",
       "    \n",
       "    // First, we specify the size of the canvas containing\n",
       "    // the visualization (size of the <div> element).\n",
       "    var width = 300,\n",
       "        height = 300;\n",
       "\n",
       "    // We create a color scale.\n",
       "    var color = d3.scale.category10();\n",
       "\n",
       "    // We create a force-directed dynamic graph layout.\n",
       "    var force = d3.layout.force()\n",
       "        .charge(-120)\n",
       "        .linkDistance(30)\n",
       "        .size([width, height]);\n",
       "\n",
       "    // In the <div> element, we create a <svg> graphic\n",
       "    // that will contain our interactive visualization.\n",
       "    var svg = d3.select(\"#d3-tosca-model\").select(\"svg\")\n",
       "    if (svg.empty()) {\n",
       "        svg = d3.select(\"#d3-tosca-model\").append(\"svg\")\n",
       "                    .attr(\"width\", width)\n",
       "                    .attr(\"height\", height);\n",
       "    }\n",
       "        \n",
       "    // We load the JSON file.\n",
       "    d3.json(\"graph.json\", function(error, graph) {\n",
       "        // In this block, the file has been loaded\n",
       "        // and the 'graph' object contains our graph.\n",
       "        \n",
       "        // We load the nodes and links in the force-directed\n",
       "        // graph.\n",
       "        force.nodes(graph.nodes)\n",
       "            .links(graph.links)\n",
       "            .start();\n",
       "\n",
       "        // We create a <line> SVG element for each link\n",
       "        // in the graph.\n",
       "        var link = svg.selectAll(\".link\")\n",
       "            .data(graph.links)\n",
       "            .enter().append(\"line\")\n",
       "            .attr(\"class\", \"link\");\n",
       "\n",
       "        // We create a <circle> SVG element for each node\n",
       "        // in the graph, and we specify a few attributes.\n",
       "        var node = svg.selectAll(\".node\")\n",
       "            .data(graph.nodes)\n",
       "            .enter().append(\"circle\")\n",
       "            .attr(\"class\", \"node\")\n",
       "            .attr(\"r\", 5)  // radius\n",
       "            .style(\"fill\", function(d) {\n",
       "                // The node color depends on the club.\n",
       "                return color(d.club); \n",
       "            })\n",
       "            .call(force.drag);\n",
       "\n",
       "        // The name of each node is the node number.\n",
       "        node.append(\"title\")\n",
       "            .text(function(d) { return d.id; });\n",
       "\n",
       "        // We bind the positions of the SVG elements\n",
       "        // to the positions of the dynamic force-directed graph,\n",
       "        // at each time step.\n",
       "        force.on(\"tick\", function() {\n",
       "            link.attr(\"x1\", function(d) { return d.source.x; })\n",
       "                .attr(\"y1\", function(d) { return d.source.y; })\n",
       "                .attr(\"x2\", function(d) { return d.target.x; })\n",
       "                .attr(\"y2\", function(d) { return d.target.y; });\n",
       "\n",
       "            node.attr(\"cx\", function(d) { return d.x; })\n",
       "                .attr(\"cy\", function(d) { return d.y; });\n",
       "        });\n",
       "    });\n",
       "});"
      ],
      "text/plain": [
       "<IPython.core.display.Javascript object>"
      ]
     },
     "metadata": {},
     "output_type": "display_data"
    }
   ],
   "source": [
    "%%javascript\n",
    "// We load the d3.js library from the Web.\n",
    "require.config({paths: {d3: \"http://d3js.org/d3.v3.min\"}});\n",
    "require([\"d3\"], function(d3) {\n",
    "    // The code in this block is executed when the \n",
    "    // d3.js library has been loaded.\n",
    "    \n",
    "    // First, we specify the size of the canvas containing\n",
    "    // the visualization (size of the <div> element).\n",
    "    var width = 300,\n",
    "        height = 300;\n",
    "\n",
    "    // We create a color scale.\n",
    "    var color = d3.scale.category10();\n",
    "\n",
    "    // We create a force-directed dynamic graph layout.\n",
    "    var force = d3.layout.force()\n",
    "        .charge(-120)\n",
    "        .linkDistance(30)\n",
    "        .size([width, height]);\n",
    "\n",
    "    // In the <div> element, we create a <svg> graphic\n",
    "    // that will contain our interactive visualization.\n",
    "    var svg = d3.select(\"#d3-tosca-model\").select(\"svg\")\n",
    "    if (svg.empty()) {\n",
    "        svg = d3.select(\"#d3-tosca-model\").append(\"svg\")\n",
    "                    .attr(\"width\", width)\n",
    "                    .attr(\"height\", height);\n",
    "    }\n",
    "        \n",
    "    // We load the JSON file.\n",
    "    d3.json(\"graph.json\", function(error, graph) {\n",
    "        // In this block, the file has been loaded\n",
    "        // and the 'graph' object contains our graph.\n",
    "        \n",
    "        // We load the nodes and links in the force-directed\n",
    "        // graph.\n",
    "        force.nodes(graph.nodes)\n",
    "            .links(graph.links)\n",
    "            .start();\n",
    "\n",
    "        // We create a <line> SVG element for each link\n",
    "        // in the graph.\n",
    "        var link = svg.selectAll(\".link\")\n",
    "            .data(graph.links)\n",
    "            .enter().append(\"line\")\n",
    "            .attr(\"class\", \"link\");\n",
    "\n",
    "        // We create a <circle> SVG element for each node\n",
    "        // in the graph, and we specify a few attributes.\n",
    "        var node = svg.selectAll(\".node\")\n",
    "            .data(graph.nodes)\n",
    "            .enter().append(\"circle\")\n",
    "            .attr(\"class\", \"node\")\n",
    "            .attr(\"r\", 5)  // radius\n",
    "            .style(\"fill\", function(d) {\n",
    "                // The node color depends on the club.\n",
    "                return color(d.club); \n",
    "            })\n",
    "            .call(force.drag);\n",
    "\n",
    "        // The name of each node is the node number.\n",
    "        node.append(\"title\")\n",
    "            .text(function(d) { return d.id; });\n",
    "\n",
    "        // We bind the positions of the SVG elements\n",
    "        // to the positions of the dynamic force-directed graph,\n",
    "        // at each time step.\n",
    "        force.on(\"tick\", function() {\n",
    "            link.attr(\"x1\", function(d) { return d.source.x; })\n",
    "                .attr(\"y1\", function(d) { return d.source.y; })\n",
    "                .attr(\"x2\", function(d) { return d.target.x; })\n",
    "                .attr(\"y2\", function(d) { return d.target.y; });\n",
    "\n",
    "            node.attr(\"cx\", function(d) { return d.x; })\n",
    "                .attr(\"cy\", function(d) { return d.y; });\n",
    "        });\n",
    "    });\n",
    "});"
   ]
  },
  {
   "cell_type": "code",
   "execution_count": null,
   "metadata": {
    "collapsed": true
   },
   "outputs": [],
   "source": []
  }
 ],
 "metadata": {
  "kernelspec": {
   "display_name": "Python 2",
   "language": "python",
   "name": "python2"
  },
  "language_info": {
   "codemirror_mode": {
    "name": "ipython",
    "version": 2
   },
   "file_extension": ".py",
   "mimetype": "text/x-python",
   "name": "python",
   "nbconvert_exporter": "python",
   "pygments_lexer": "ipython2",
   "version": "2.7.6"
  }
 },
 "nbformat": 4,
 "nbformat_minor": 0
}
