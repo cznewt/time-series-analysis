{
 "cells": [
  {
   "cell_type": "markdown",
   "metadata": {
    "collapsed": true
   },
   "source": [
    "TOSCA is an OASIS open standard that defines the interoperable description of services and applications hosted on the cloud and elsewhere; including their components, relationships, dependencies, requirements, and capabilities, thereby enabling portability and automated management across cloud providers regardless of underlying platform or infrastructure; thus expanding customer choice, improving reliability, and reducing cost and time-to-value. These characteristics also facilitate the portable, continuous delivery of applications (DevOps) across their entire lifecycle. In short, they empower a much higher level of agility and accuracy for business in the cloud.\n",
    "\n",
    "TOSCA enables business to capture and automate the use of expert knowledge so that service and application requirements could be automatically matched to corresponding cloud service provider capabilities, thus enabling a truly competitive ecosystem where cloud platform and service providers can leap beyond commoditization in order to compete, innovate, and better serve the accelerating needs of cloud-based businesses.\n",
    "\n",
    "### General articles\n",
    "\n",
    "* [IBM: TOSCA’s Simple Profile poised to take Cloud Orchestration to the next level](https://developer.ibm.com/opentech/2015/04/09/tosca-simple-profile-next-level/)\n",
    "\n",
    "\n",
    "### Modeling tools\n",
    "\n",
    "* [Github: c-Eclipse related components](https://github.com/CELAR/c-Eclipse)\n",
    "\n",
    "\n",
    "### Orchestration integrations\n",
    "\n",
    "* https://docs.docker.com/compose/gettingstarted/\n",
    "* [Github: Juju Tosca Translator](https://github.com/juju/juju-tosca)\n",
    "* [Cloudify: Simple TOSCA Orchestration for Docker](http://getcloudify.org/2015/06/19/docker-tosca-cloud-orchestration-openstack-heat-kubernetes.html)"
   ]
  },
  {
   "cell_type": "code",
   "execution_count": 44,
   "metadata": {
    "collapsed": false
   },
   "outputs": [
    {
     "name": "stdout",
     "output_type": "stream",
     "text": [
      "\n",
      "version: tosca_simple_yaml_1_0\n",
      "\n",
      "custom_defs:\n",
      "\ttosca.nodes.WebApplication.Leonardo\n",
      "\ttosca.nodes.SoftwareComponent.Postgresql\n",
      "\n",
      "nodetemplates:\n",
      "\tpostgresql_database\n",
      "\tleonardo_application\n",
      "\n",
      "graph_nodes:\n",
      "\n",
      "graph_vertices:\n"
     ]
    },
    {
     "data": {
      "text/plain": [
       "{'leonardo_application': <toscaparser.nodetemplate.NodeTemplate at 0x7f20fc464590>,\n",
       " 'postgresql_database': <toscaparser.nodetemplate.NodeTemplate at 0x7f20fad84850>}"
      ]
     },
     "execution_count": 44,
     "metadata": {},
     "output_type": "execute_result"
    }
   ],
   "source": [
    "from toscaparser.tosca_template import ToscaTemplate\n",
    "\n",
    "tosca_file = \"/srv/jupyter/notebook/tosca_model/csar/templates/leonardo_aio.yaml\"\n",
    "\n",
    "tosca_model = ToscaTemplate(tosca_file, None, True)\n",
    "\n",
    "version = tosca_model.version\n",
    "if tosca_model.version:\n",
    "    print (\"\\nversion: \" + version)\n",
    "\n",
    "if hasattr(tosca_model, 'description'):\n",
    "    description = tosca_model.description\n",
    "    if description:\n",
    "        print (\"\\ndescription: \" + description)\n",
    "\n",
    "if hasattr(tosca_model, 'inputs'):\n",
    "    inputs = tosca_model.inputs\n",
    "    if inputs:\n",
    "        print (\"\\ninputs:\")\n",
    "        for input in inputs:\n",
    "            print (\"\\t\" + input.name)\n",
    "\n",
    "custom_defs = tosca_model.topology_template.custom_defs\n",
    "if custom_defs:\n",
    "    print (\"\\ncustom_defs:\")\n",
    "    for node in custom_defs:\n",
    "        print (\"\\t\" + node)\n",
    "\n",
    "if hasattr(tosca_model, 'nodetemplates'):\n",
    "    nodetemplates = tosca_model.nodetemplates\n",
    "    if nodetemplates:\n",
    "        print (\"\\nnodetemplates:\")\n",
    "        for node in nodetemplates:\n",
    "            print (\"\\t\" + node.name)\n",
    "\n",
    "if hasattr(tosca_model, 'outputs'):\n",
    "    outputs = tosca_model.outputs\n",
    "    if outputs:\n",
    "        print (\"\\noutputs:\")\n",
    "        for output in outputs:\n",
    "            print (\"\\t\" + output.name)\n",
    "\n"
   ]
  },
  {
   "cell_type": "code",
   "execution_count": 47,
   "metadata": {
    "collapsed": false
   },
   "outputs": [
    {
     "name": "stdout",
     "output_type": "stream",
     "text": [
      "\n",
      "graph_nodes:\n"
     ]
    },
    {
     "data": {
      "text/plain": [
       "[<toscaparser.nodetemplate.NodeTemplate at 0x7f20fad84850>,\n",
       " <toscaparser.nodetemplate.NodeTemplate at 0x7f20fc464590>]"
      ]
     },
     "execution_count": 47,
     "metadata": {},
     "output_type": "execute_result"
    }
   ],
   "source": [
    "print (\"\\ngraph_nodes:\")\n",
    "tosca_model.graph.nodetemplates"
   ]
  },
  {
   "cell_type": "code",
   "execution_count": 48,
   "metadata": {
    "collapsed": false
   },
   "outputs": [
    {
     "name": "stdout",
     "output_type": "stream",
     "text": [
      "\n",
      "graph_vertices:\n"
     ]
    },
    {
     "data": {
      "text/plain": [
       "{'leonardo_application': <toscaparser.nodetemplate.NodeTemplate at 0x7f20fc464590>,\n",
       " 'postgresql_database': <toscaparser.nodetemplate.NodeTemplate at 0x7f20fad84850>}"
      ]
     },
     "execution_count": 48,
     "metadata": {},
     "output_type": "execute_result"
    }
   ],
   "source": [
    "print (\"\\ngraph_vertices:\")\n",
    "tosca_model.graph.vertices"
   ]
  },
  {
   "cell_type": "code",
   "execution_count": null,
   "metadata": {
    "collapsed": true
   },
   "outputs": [],
   "source": []
  }
 ],
 "metadata": {
  "kernelspec": {
   "display_name": "Python 2",
   "language": "python",
   "name": "python2"
  },
  "language_info": {
   "codemirror_mode": {
    "name": "ipython",
    "version": 2
   },
   "file_extension": ".py",
   "mimetype": "text/x-python",
   "name": "python",
   "nbconvert_exporter": "python",
   "pygments_lexer": "ipython2",
   "version": "2.7.6"
  }
 },
 "nbformat": 4,
 "nbformat_minor": 0
}
