{
 "cells": [
  {
   "cell_type": "code",
   "execution_count": 6,
   "metadata": {
    "collapsed": false
   },
   "outputs": [
    {
     "name": "stdout",
     "output_type": "stream",
     "text": [
      "\n",
      "version: tosca_simple_yaml_1_0\n",
      "\n",
      "description: This TOSCA simple profile deploys nodejs, mongodb, elasticsearch, logstash and kibana each on a separate server with monitoring enabled for nodejs server where a sample nodejs application is running. The rsyslog and collectd are installed on a nodejs server.\n",
      "\n",
      "inputs:\n",
      "\tgithub_url\n",
      "\tmy_cpus\n",
      "\n",
      "nodetemplates:\n",
      "\ttosca.nodes.Database mongo_db\n",
      "\ttosca.nodes.SoftwareComponent.Collectd app_collectd\n",
      "\ttosca.nodes.Compute logstash_server\n",
      "\ttosca.nodes.WebServer nodejs\n",
      "\ttosca.nodes.Compute kibana_server\n",
      "\ttosca.nodes.WebApplication.PayPalPizzaStore paypal_pizzastore\n",
      "\ttosca.nodes.SoftwareComponent.Kibana kibana\n",
      "\ttosca.nodes.Compute elasticsearch_server\n",
      "\ttosca.nodes.Compute mongo_server\n",
      "\ttosca.nodes.SoftwareComponent.Elasticsearch elasticsearch\n",
      "\ttosca.nodes.SoftwareComponent.Rsyslog app_rsyslog\n",
      "\ttosca.nodes.DBMS mongo_dbms\n",
      "\ttosca.nodes.SoftwareComponent.Logstash logstash\n",
      "\ttosca.nodes.Compute app_server\n",
      "\n",
      "outputs:\n",
      "\tkibana_url\n",
      "\tmongodb_url\n",
      "\tnodejs_url\n",
      "\telasticsearch_url\n",
      "\tlogstash_url\n"
     ]
    }
   ],
   "source": [
    "from toscaparser.tosca_template import ToscaTemplate\n",
    "\n",
    "#tosca_file = \"/srv/jupyter/notebook/tosca_model/csar_elk/mongo-elk.yaml\"\n",
    "#tosca_file = \"/srv/jupyter/notebook/tosca_model/csar_leonardo/templates/leonardo_aio.yaml\"\n",
    "tosca_file = \"/srv/jupyter/notebook/tosca_model/tosca_elk/Definitions/tosca_elk.yaml\"\n",
    "tosca_params = {'my_cpus': 2, 'github_url': 'fsdfdsfds'}\n",
    "\n",
    "tosca_model = ToscaTemplate(tosca_file, tosca_params, True)\n",
    "\n",
    "version = tosca_model.version\n",
    "if tosca_model.version:\n",
    "    print (\"\\nversion: \" + version)\n",
    "\n",
    "if hasattr(tosca_model, 'description'):\n",
    "    description = tosca_model.description\n",
    "    if description:\n",
    "        print (\"\\ndescription: \" + description)\n",
    "\n",
    "if hasattr(tosca_model, 'inputs'):\n",
    "    inputs = tosca_model.inputs\n",
    "    if inputs:\n",
    "        print (\"\\ninputs:\")\n",
    "        for input in inputs:\n",
    "            print (\"\\t\" + input.name)\n",
    "\n",
    "if hasattr(tosca_model, 'nodetemplates'):\n",
    "    nodetemplates = tosca_model.nodetemplates\n",
    "    if nodetemplates:\n",
    "        print (\"\\nnodetemplates:\")\n",
    "        for node in nodetemplates:\n",
    "            print (\"\\t\" + node.type_definition.ntype + ' ' + node.name)\n",
    "\n",
    "if hasattr(tosca_model, 'outputs'):\n",
    "    outputs = tosca_model.outputs\n",
    "    if outputs:\n",
    "        print (\"\\noutputs:\")\n",
    "        for output in outputs:\n",
    "            print (\"\\t\" + output.name)"
   ]
  },
  {
   "cell_type": "code",
   "execution_count": 7,
   "metadata": {
    "collapsed": false
   },
   "outputs": [],
   "source": [
    "from translator.hot.tosca_translator import TOSCATranslator\n",
    "\n",
    "tosca_translator = TOSCATranslator(tosca_model, tosca_params, False)\n",
    "\n",
    "hot_template = tosca_translator.translate()\n",
    "\n",
    "print hot_template"
   ]
  },
  {
   "cell_type": "code",
   "execution_count": null,
   "metadata": {
    "collapsed": true
   },
   "outputs": [],
   "source": []
  }
 ],
 "metadata": {
  "kernelspec": {
   "display_name": "Python 2",
   "language": "python",
   "name": "python2"
  },
  "language_info": {
   "codemirror_mode": {
    "name": "ipython",
    "version": 2
   },
   "file_extension": ".py",
   "mimetype": "text/x-python",
   "name": "python",
   "nbconvert_exporter": "python",
   "pygments_lexer": "ipython2",
   "version": "2.7.6"
  }
 },
 "nbformat": 4,
 "nbformat_minor": 0
}
